{
 "cells": [
  {
   "cell_type": "markdown",
   "metadata": {},
   "source": [
    "*1.1* **Basic SQL Queries**\n",
    "    "
   ]
  },
  {
   "cell_type": "code",
   "execution_count": 1,
   "metadata": {},
   "outputs": [],
   "source": [
    "import sqlite3\n",
    "import pandas as pd"
   ]
  },
  {
   "cell_type": "code",
   "execution_count": 2,
   "metadata": {},
   "outputs": [],
   "source": [
    "# Connect to the SQLite database\n",
    "\n",
    "conn =  sqlite3.connect(\"../database/db.sqlite3\")\n",
    "\n",
    "# Create a cursor object\n",
    "cursor = conn.cursor()\n",
    "\n"
   ]
  },
  {
   "cell_type": "code",
   "execution_count": 3,
   "metadata": {},
   "outputs": [
    {
     "name": "stdout",
     "output_type": "stream",
     "text": [
      "   id         name                  email  role_id  department_id   hire_date\n",
      "0   1     John Doe     john.doe@gmail.com        1              1  2020-01-01\n",
      "1   3  Bob Johnson  bob.johnson@gmail.com        3              3  2020-03-01\n",
      "2   4      N Chaki      N.chaki@gmail.com        1              1  2018-01-21\n",
      "3   5     SK Setua       sks123@gmail.com        1              1  2010-01-21\n",
      "4   6     R.k Paul    rajatpaul@gmail.com        2              1  2008-05-12\n"
     ]
    }
   ],
   "source": [
    "query = \"SELECT * FROM employee;\"\n",
    "result = pd.read_sql(query, conn)\n",
    "print(result)"
   ]
  },
  {
   "cell_type": "code",
   "execution_count": 4,
   "metadata": {},
   "outputs": [
    {
     "name": "stdout",
     "output_type": "stream",
     "text": [
      "       name\n",
      "0  John Doe\n",
      "1   N Chaki\n",
      "2  SK Setua\n",
      "3  R.k Paul\n"
     ]
    }
   ],
   "source": [
    "query = \"SELECT name from employee WHERE department_id = 1;\"\n",
    "result = pd.read_sql(query, conn)\n",
    "print(result)\n"
   ]
  },
  {
   "cell_type": "code",
   "execution_count": 5,
   "metadata": {},
   "outputs": [
    {
     "name": "stdout",
     "output_type": "stream",
     "text": [
      "Data inserted successfully.\n",
      "   id         name                  email  role_id  department_id   hire_date\n",
      "0   1     John Doe     john.doe@gmail.com        1              1  2020-01-01\n",
      "1   3  Bob Johnson  bob.johnson@gmail.com        3              3  2020-03-01\n",
      "2   4      N Chaki      N.chaki@gmail.com        1              1  2018-01-21\n",
      "3   5     SK Setua       sks123@gmail.com        1              1  2010-01-21\n",
      "4   6     R.k Paul    rajatpaul@gmail.com        2              1  2008-05-12\n",
      "5   7     R.k Paul  paulrajat34@gmail.com        2              1  2008-05-12\n"
     ]
    }
   ],
   "source": [
    "insert_query =f'''INSERT INTO employee (name,email,role_id,department_id,hire_date)\n",
    "            VALUES (\"R.k Paul\",\"paulrajat34@gmail.com\", 2, 1, \"2008-05-12\");\n",
    "'''\n",
    "\n",
    "try:\n",
    "    cursor.execute(insert_query)\n",
    "    conn.commit()\n",
    "    print(\"Data inserted successfully.\")\n",
    "except sqlite3.IntegrityError as e:\n",
    "    print(f\"IntegrityError: {e}\")\n",
    "# Fetch and display the inserted data\n",
    "result = pd.read_sql(\"SELECT * FROM employee\", conn)\n",
    "print(result)\n",
    "\n",
    "\n"
   ]
  },
  {
   "cell_type": "code",
   "execution_count": 6,
   "metadata": {},
   "outputs": [
    {
     "name": "stdout",
     "output_type": "stream",
     "text": [
      "          name                  email\n",
      "0     John Doe     john.doe@gmail.com\n",
      "1  Bob Johnson  bob.johnson@gmail.com\n",
      "2      N Chaki      N.chaki@gmail.com\n",
      "3     SK Setua       sks123@gmail.com\n",
      "4     R.k Paul    rajatpaul@gmail.com\n",
      "5     R.k Paul  paulrajat34@gmail.com\n"
     ]
    }
   ],
   "source": [
    "# Retrieve specific data from the employee table\n",
    "specific_query = \"SELECT name, email FROM employee ;\"\n",
    "result = pd.read_sql(specific_query, conn)\n",
    "print(result)"
   ]
  },
  {
   "cell_type": "code",
   "execution_count": null,
   "metadata": {},
   "outputs": [
    {
     "name": "stdout",
     "output_type": "stream",
     "text": [
      "       name               email\n",
      "0  John Doe  john.doe@gmail.com\n",
      "1   N Chaki   N.chaki@gmail.com\n",
      "2  SK Setua    sks123@gmail.com\n"
     ]
    }
   ],
   "source": [
    "# use filter to retrieve specific data\n",
    "filter_query = \"SELECT name, email FROM employee WHERE role_id = 1;\"\n",
    "result = pd.read_sql(filter_query, conn)\n",
    "print(result)"
   ]
  },
  {
   "cell_type": "code",
   "execution_count": 26,
   "metadata": {},
   "outputs": [
    {
     "name": "stdout",
     "output_type": "stream",
     "text": [
      "Data updated successfully.\n"
     ]
    }
   ],
   "source": [
    "# Update - modify existing data\n",
    "update_query = \"UPDATE employee SET email = 'rajatpaul@gmail.com' WHERE name = 'R.k Paul';\"\n",
    "cursor.execute(update_query)\n",
    "conn.commit()\n",
    "print(\"Data updated successfully.\")\n",
    "\n"
   ]
  },
  {
   "cell_type": "code",
   "execution_count": 29,
   "metadata": {},
   "outputs": [
    {
     "name": "stdout",
     "output_type": "stream",
     "text": [
      "Data deleted successfully.\n"
     ]
    }
   ],
   "source": [
    "# DELETE - Removing Data\n",
    "\n",
    "delete_query = \"DELETE FROM employee WHERE name = 'Jane Smith';\"\n",
    "cursor.execute(delete_query)\n",
    "conn.commit()\n",
    "print(\"Data deleted successfully.\")"
   ]
  },
  {
   "cell_type": "markdown",
   "metadata": {},
   "source": [
    "\n",
    "*1.2* **Let`s understand use of sorting** "
   ]
  },
  {
   "cell_type": "code",
   "execution_count": null,
   "metadata": {},
   "outputs": [
    {
     "name": "stdout",
     "output_type": "stream",
     "text": [
      "   id          title  salary\n",
      "0   1            HOD   80000\n",
      "1   2      Professor   70000\n",
      "2   3       Lecturer   50000\n",
      "3   4  Lab Assistant   30000\n",
      "4   5      Registrar   60000\n",
      "   id          title  salary\n",
      "0   1            HOD   80000\n",
      "1   2      Professor   70000\n",
      "2   5      Registrar   60000\n",
      "3   3       Lecturer   50000\n",
      "4   4  Lab Assistant   30000\n"
     ]
    }
   ],
   "source": [
    "role_table_query = f'''\n",
    "                    SELECT * from role\n",
    "                    '''\n",
    "role_table_result = pd.read_sql(role_table_query, conn)\n",
    "print(role_table_result)\n"
   ]
  },
  {
   "cell_type": "code",
   "execution_count": null,
   "metadata": {},
   "outputs": [
    {
     "name": "stdout",
     "output_type": "stream",
     "text": [
      "   id          title  salary\n",
      "0   1            HOD   80000\n",
      "1   2      Professor   70000\n",
      "2   5      Registrar   60000\n",
      "3   3       Lecturer   50000\n",
      "4   4  Lab Assistant   30000\n"
     ]
    }
   ],
   "source": [
    "# Sorting by salary in Descending order\n",
    "sort_query = \"SELECT * FROM role ORDER BY salary DESC;\"\n",
    "result = pd.read_sql(sort_query, conn)\n",
    "print(result)\n"
   ]
  },
  {
   "cell_type": "code",
   "execution_count": null,
   "metadata": {},
   "outputs": [
    {
     "name": "stdout",
     "output_type": "stream",
     "text": [
      "   id          title  salary\n",
      "0   4  Lab Assistant   30000\n",
      "1   3       Lecturer   50000\n",
      "2   5      Registrar   60000\n",
      "3   2      Professor   70000\n",
      "4   1            HOD   80000\n"
     ]
    }
   ],
   "source": [
    "# Sorting by salary in Ascending order\n",
    "sort_query = \"SELECT * FROM role ORDER BY salary ASC;\"\n",
    "result = pd.read_sql(sort_query, conn)\n",
    "print(result)\n"
   ]
  },
  {
   "cell_type": "code",
   "execution_count": 13,
   "metadata": {},
   "outputs": [
    {
     "name": "stdout",
     "output_type": "stream",
     "text": [
      "   id          title  salary\n",
      "0   1            HOD   80000\n",
      "1   4  Lab Assistant   30000\n",
      "2   3       Lecturer   50000\n",
      "3   2      Professor   70000\n",
      "4   5      Registrar   60000\n",
      "   id          title  salary\n",
      "0   5      Registrar   60000\n",
      "1   2      Professor   70000\n",
      "2   3       Lecturer   50000\n",
      "3   4  Lab Assistant   30000\n",
      "4   1            HOD   80000\n"
     ]
    }
   ],
   "source": [
    "# Sorting by title in Ascending order\n",
    "sort_query = \"SELECT * FROM role ORDER BY title ASC;\"\n",
    "result = pd.read_sql(sort_query, conn)\n",
    "print(result)\n",
    "\n",
    "# Sorting by title in Descending order\n",
    "sort_query = \"SELECT * FROM role ORDER BY title DESC;\"\n",
    "result = pd.read_sql(sort_query, conn)\n",
    "print(result)"
   ]
  },
  {
   "cell_type": "code",
   "execution_count": 15,
   "metadata": {},
   "outputs": [
    {
     "name": "stdout",
     "output_type": "stream",
     "text": [
      "   id          title  salary\n",
      "0   4  Lab Assistant   30000\n",
      "1   3       Lecturer   50000\n",
      "2   5      Registrar   60000\n",
      "3   2      Professor   70000\n",
      "4   1            HOD   80000\n"
     ]
    }
   ],
   "source": [
    "# Sorting by salary in Descending order and title in Ascending order\n",
    "sort_query = \"SELECT * FROM role ORDER BY salary ASC, title ASC;\"\n",
    "result = pd.read_sql(sort_query, conn)\n",
    "print(result)"
   ]
  },
  {
   "cell_type": "markdown",
   "metadata": {},
   "source": [
    "\n",
    "*1.3* **Let`s understand use of LIMIT** \n",
    ">> LIMIT is used to limit the number of rows returned in a query result.\n",
    "\n",
    ">> useful to work with large datasets and to prevent overloading the system with too much data.\n",
    "\n",
    ">> helpful for pagination and to retrieve a specific number of rows from a table."
   ]
  },
  {
   "cell_type": "code",
   "execution_count": 17,
   "metadata": {},
   "outputs": [
    {
     "name": "stdout",
     "output_type": "stream",
     "text": [
      "   id      title  salary\n",
      "0   1        HOD   80000\n",
      "1   2  Professor   70000\n"
     ]
    }
   ],
   "source": [
    "# Limit the number of rows returned to 5\n",
    "limit_query = \"SELECT * FROM role LIMIT 2;\"\n",
    "result = pd.read_sql(limit_query, conn)\n",
    "print(result)\n",
    "\n"
   ]
  },
  {
   "cell_type": "code",
   "execution_count": 19,
   "metadata": {},
   "outputs": [
    {
     "name": "stdout",
     "output_type": "stream",
     "text": [
      "   id          title  salary\n",
      "0   4  Lab Assistant   30000\n",
      "1   3       Lecturer   50000\n"
     ]
    }
   ],
   "source": [
    "#combine limit with order by\n",
    "limit_query = \"SELECT * FROM role ORDER BY salary ASC LIMIT 2;\"\n",
    "result = pd.read_sql(limit_query, conn)\n",
    "print(result)"
   ]
  },
  {
   "cell_type": "markdown",
   "metadata": {},
   "source": [
    "*1.4* **OFFSET**\n",
    "> -  OFFSET is used to skip a specific number of rows in a query result. \n",
    "> - Useful to work with large datasets and to retrieve a specific range of rows from a table. \n",
    "> - Helpful for pagination and to retrieve a specific number of rows from a table.\n"
   ]
  },
  {
   "cell_type": "code",
   "execution_count": 25,
   "metadata": {},
   "outputs": [
    {
     "name": "stdout",
     "output_type": "stream",
     "text": [
      "   id          title  salary\n",
      "0   4  Lab Assistant   30000\n",
      "1   5      Registrar   60000\n"
     ]
    }
   ],
   "source": [
    "# Skip the first page and retrieve the next 3 rows of next page\n",
    "offset_query = \"SELECT * FROM role LIMIT 3 OFFSET 3;\"\n",
    "result = pd.read_sql(offset_query, conn)\n",
    "print(result)"
   ]
  }
 ],
 "metadata": {
  "kernelspec": {
   "display_name": "Python 3",
   "language": "python",
   "name": "python3"
  },
  "language_info": {
   "codemirror_mode": {
    "name": "ipython",
    "version": 3
   },
   "file_extension": ".py",
   "mimetype": "text/x-python",
   "name": "python",
   "nbconvert_exporter": "python",
   "pygments_lexer": "ipython3",
   "version": "3.12.1"
  }
 },
 "nbformat": 4,
 "nbformat_minor": 2
}
