{
 "cells": [
  {
   "cell_type": "markdown",
   "id": "4ff51840",
   "metadata": {},
   "source": [
    "# SQL JOIN Queries\n",
    "\n",
    "**SQL JOIN** queries combine rows from two or more tables based on a related column between them. There are several types of **JOINs**, including:\n",
    "\n",
    "- **INNER JOIN**: Returns matching rows.\n",
    "- **LEFT JOIN**: Returns all rows from the left table and matching rows from the right.\n",
    "- **RIGHT JOIN**: Opposite of LEFT JOIN.\n",
    "- **FULL JOIN**: Returns all rows when there's a match in either table.\n",
    "\n",
    "**JOINs** are fundamental for working with relational databases, allowing users to:\n",
    "- Retrieve data from multiple tables in a single query.\n",
    "- Establish relationships between tables.\n",
    "- Perform complex data analysis across related datasets."
   ]
  },
  {
   "cell_type": "code",
   "execution_count": 14,
   "id": "907a8ee1",
   "metadata": {
    "vscode": {
     "languageId": "markdown"
    }
   },
   "outputs": [],
   "source": [
    "import sqlite3\n",
    "import pandas as pd"
   ]
  },
  {
   "cell_type": "code",
   "execution_count": 15,
   "id": "b40f084f",
   "metadata": {},
   "outputs": [],
   "source": [
    "# Connect to the SQLite database\n",
    "\n",
    "conn =  sqlite3.connect(\"../database/db.sqlite3\")\n",
    "\n",
    "# Create a cursor object\n",
    "cursor = conn.cursor()\n",
    "\n",
    "# tables = [table[0] for table in tables]\n",
    "# # print the tables\n",
    "# print(tables)"
   ]
  },
  {
   "cell_type": "code",
   "execution_count": 16,
   "id": "abfc9aee",
   "metadata": {},
   "outputs": [
    {
     "name": "stdout",
     "output_type": "stream",
     "text": [
      "+--------------------+\n",
      "|     Table Name     |\n",
      "+--------------------+\n",
      "|     department     |\n",
      "|  sqlite_sequence   |\n",
      "|        role        |\n",
      "|      employee      |\n",
      "|      students      |\n",
      "|   student_phones   |\n",
      "|      courses       |\n",
      "|    enrollments     |\n",
      "| course_assignments |\n",
      "|      EMP1_NY       |\n",
      "|      EMP2_ATL      |\n",
      "|      EMP3_MIA      |\n",
      "|    DEPT1_SMALL     |\n",
      "|    DEPT2_LARGE     |\n",
      "+--------------------+\n"
     ]
    }
   ],
   "source": [
    "\n",
    "# show tables\n",
    "cursor.execute(\"SELECT name FROM sqlite_master WHERE type='table';\")\n",
    "tables = cursor.fetchall()\n",
    "# prinitin the tables of db in tabular format\n",
    "\n",
    "\n",
    "from prettytable import PrettyTable\n",
    "x = PrettyTable()\n",
    "x.field_names = [\"Table Name\"]\n",
    "for table in tables:\n",
    "    x.add_row([table[0]])\n",
    "print(x)\n"
   ]
  },
  {
   "cell_type": "markdown",
   "id": "e50bdecd",
   "metadata": {},
   "source": [
    "## INNER JOIN \n",
    "> Returns only the rows that have matching values in both tables.\n",
    "\n",
    "\n"
   ]
  },
  {
   "cell_type": "code",
   "execution_count": null,
   "id": "540e6cde",
   "metadata": {},
   "outputs": [
    {
     "name": "stdout",
     "output_type": "stream",
     "text": [
      "\n",
      "Students and their enrolled courses:\n",
      "+------------------+------------------------------+-----------------+----------------------------------+\n",
      "|   Student Name   |        Student Email         | Enrollment Date |           Course Name            |\n",
      "+------------------+------------------------------+-----------------+----------------------------------+\n",
      "| Alice Wonderland |      alice@example.com       |    2023-10-25   | Introduction to Computer Science |\n",
      "| Alice Wonderland |      alice@example.com       |    2024-02-01   |       Advanced Mathematics       |\n",
      "| Aishwarya Sharma | aishwarya.sharma@example.com |    2023-10-26   |       Physics I: Mechanics       |\n",
      "|   Rahul Kumar    |   rahul.kumar@example.com    |    2023-10-27   | Introduction to Computer Science |\n",
      "|   Priya Patel    |   priya.patel@example.com    |    2024-04-10   |   Chemistry: Organic Chemistry   |\n",
      "|   Vikram Singh   |   vikram.singh@example.com   |    2023-10-28   |      Biology: Cell Biology       |\n",
      "|   Sneha Reddy    |   sneha.reddy@example.com    |    2023-10-29   |   Database Management Systems    |\n",
      "|   Arjun Menon    |   arjun.menon@example.com    |    2023-10-29   |       Software Engineering       |\n",
      "| Aishwarya Sharma | aishwarya.sharma@example.com |    2025-01-04   | Introduction to Computer Science |\n",
      "+------------------+------------------------------+-----------------+----------------------------------+\n"
     ]
    }
   ],
   "source": [
    " \n",
    "# Inner join between students and enrollments tables\n",
    "cursor.execute(\"\"\"\n",
    "SELECT \n",
    "    s.name as student_name,\n",
    "    s.email as student_email,\n",
    "    e.enrollment_date,\n",
    "    c.course_name\n",
    "FROM students s\n",
    "INNER JOIN enrollments e ON s.student_id = e.student_id\n",
    "INNER JOIN courses c ON e.course_id = c.course_id;\n",
    "\"\"\")\n",
    "\n",
    "# Fetch the results\n",
    "results = cursor.fetchall()\n",
    "\n",
    "# Create a DataFrame from the results\n",
    "df = pd.DataFrame(results, columns=['Student Name', 'Student Email', 'Enrollment Date', 'Course Name'])\n",
    "\n",
    "# Display the DataFrame\n",
    "print(\"\\nStudents and their enrolled courses:\")\n",
    "#print(df)\n",
    "\n",
    "#making the output more beatuful using pretty table\n",
    "from prettytable import PrettyTable\n",
    "x = PrettyTable()\n",
    "x.field_names = [\"Student Name\", \"Student Email\", \"Enrollment Date\", \"Course Name\"]\n",
    "for row in results:\n",
    "    x.add_row(row)\n",
    "print(x)\n",
    "\n",
    "\n"
   ]
  },
  {
   "cell_type": "markdown",
   "id": "9440aa34",
   "metadata": {},
   "source": [
    "> **This query:**\n",
    "\n",
    "✨ Joins the `students` table with `enrollments` using `student_id`\n",
    "🔗 Further joins with `courses` table using `course_id`\n",
    "📊 Shows each student's:\n",
    "  - name\n",
    "  - email\n",
    "  - enrollment date\n",
    "  - course name\n",
    "\n",
    "🔍 Uses `INNER JOIN` so it will only show:\n",
    "  - students who have enrollments\n",
    "  - courses that exist\n",
    "\n",
    "💡 **Understanding the Query:**\n",
    "- In the `SELECT` statement, we specify the columns we want: student `name`, `email`, `enrollment date`, and `course name`\n",
    "- In the `FROM` clause,we specify the first table to join (also referred to as the left table). We start with the `students` table (aliased as 's')\n",
    "- Using `INNER JOIN`,  we specify the second table to join (also referred to as the right table). We connect:\n",
    "  - `enrollments` (aliased as 'e') with `students` using `student_id`\n",
    "  - `courses` (aliased as 'c') with `enrollments` using `course_id`\n",
    "\n",
    "📝 Table aliases (s, e, c) make the query more readable and reduce typing"
   ]
  },
  {
   "cell_type": "markdown",
   "id": "e113799b",
   "metadata": {},
   "source": [
    "> **LEFT JOIN**\n",
    "\n",
    "We’ll start our overview of `OUTER joins` with the **LEFT JOIN**. You should apply this JOIN type when you want to keep all records from the left table and only the matched records from the right table.\n",
    "\n",
    "\n",
    "💡 **Key Differences from INNER JOIN:**\n",
    "- INNER JOIN only shows students who are enrolled in courses\n",
    "- LEFT JOIN shows ALL students, including those not enrolled\n"
   ]
  },
  {
   "cell_type": "code",
   "execution_count": 22,
   "id": "b17cd0f0",
   "metadata": {},
   "outputs": [
    {
     "name": "stdout",
     "output_type": "stream",
     "text": [
      "\n",
      "All students and their enrolled courses (if any):\n",
      "+--------------------+--------------------------------+-----------------+----------------------------------+\n",
      "|    Student Name    |         Student Email          | Enrollment Date |           Course Name            |\n",
      "+--------------------+--------------------------------+-----------------+----------------------------------+\n",
      "|  Alice Wonderland  |       alice@example.com        |    2023-10-25   | Introduction to Computer Science |\n",
      "|  Alice Wonderland  |       alice@example.com        |    2024-02-01   |       Advanced Mathematics       |\n",
      "|  Aishwarya Sharma  |  aishwarya.sharma@example.com  |    2025-01-04   | Introduction to Computer Science |\n",
      "|  Aishwarya Sharma  |  aishwarya.sharma@example.com  |    2023-10-26   |       Physics I: Mechanics       |\n",
      "|    Rahul Kumar     |    rahul.kumar@example.com     |    2023-10-27   | Introduction to Computer Science |\n",
      "|    Priya Patel     |    priya.patel@example.com     |    2024-04-10   |   Chemistry: Organic Chemistry   |\n",
      "|    Vikram Singh    |    vikram.singh@example.com    |    2023-10-28   |      Biology: Cell Biology       |\n",
      "|    Sneha Reddy     |    sneha.reddy@example.com     |    2023-10-29   |   Database Management Systems    |\n",
      "|    Arjun Menon     |    arjun.menon@example.com     |    2023-10-29   |       Software Engineering       |\n",
      "| Deepika Chatterjee | deepika.chatterjee@example.com |       None      |               None               |\n",
      "+--------------------+--------------------------------+-----------------+----------------------------------+\n"
     ]
    }
   ],
   "source": [
    "from prettytable import PrettyTable\n",
    "\n",
    "# LEFT JOIN between students and enrollments tables\n",
    "cursor.execute(\"\"\"\n",
    "SELECT \n",
    "    s.name as student_name,\n",
    "    s.email as student_email,\n",
    "    e.enrollment_date,\n",
    "    c.course_name\n",
    "FROM students s\n",
    "LEFT JOIN enrollments e ON s.student_id = e.student_id\n",
    "LEFT JOIN courses c ON e.course_id = c.course_id;\n",
    "\"\"\")\n",
    "\n",
    "# Fetch the results\n",
    "left_join_results = cursor.fetchall()\n",
    "\n",
    "# Create a DataFrame from the results\n",
    "left_join_df = pd.DataFrame(left_join_results, columns=['Student Name', 'Student Email', 'Enrollment Date', 'Course Name'])\n",
    "\n",
    "# Display the DataFrame\n",
    "print(\"\\nAll students and their enrolled courses (if any):\")\n",
    "x = PrettyTable()\n",
    "x.field_names = [\"Student Name\", \"Student Email\", \"Enrollment Date\", \"Course Name\"]\n",
    "for row in left_join_results:\n",
    "    x.add_row(row)\n",
    "print(x)"
   ]
  },
  {
   "cell_type": "markdown",
   "id": "d471b3cd",
   "metadata": {},
   "source": [
    "📊 **Use Cases of LEFT JOIN**\n",
    "- Finding students who haven't enrolled in any courses\n"
   ]
  },
  {
   "cell_type": "code",
   "execution_count": 29,
   "id": "2ad1818c",
   "metadata": {},
   "outputs": [
    {
     "name": "stdout",
     "output_type": "stream",
     "text": [
      "\n",
      "Students without enrollments:\n",
      "\n",
      "         Student Name                   Student Email\n",
      "0  Deepika Chatterjee  deepika.chatterjee@example.com\n"
     ]
    }
   ],
   "source": [
    "# Execute the SQL query to find students without enrollments\n",
    "\n",
    "cursor.execute(\"\"\"\n",
    "SELECT s.name as student_name, s.email as student_email\n",
    "FROM students s\n",
    "LEFT JOIN enrollments e ON s.student_id = e.student_id\n",
    "WHERE e.enrollment_id IS NULL;\n",
    "\"\"\")\n",
    "\n",
    "# Fetch the results\n",
    "no_enrollment_results = cursor.fetchall()\n",
    "\n",
    "# Create a DataFrame from the results\n",
    "no_enrollment_df = pd.DataFrame(no_enrollment_results, columns=['Student Name', 'Student Email'])\n",
    "\n",
    "# Display the DataFrame\n",
    "print(\"\\nStudents without enrollments:\\n\")\n",
    "print(no_enrollment_df)\n"
   ]
  },
  {
   "cell_type": "markdown",
   "id": "86929fd3",
   "metadata": {},
   "source": [
    "> **RIGHT JOIN**\n",
    "\n",
    "`RIGHT JOIN` is very similar to `LEFT JOIN`. I bet you guessed that the only difference is that `RIGHT JOIN` keeps all of the records from the right table, even if they cannot be matched to the left table. If you did, you’re correct!\n"
   ]
  },
  {
   "cell_type": "code",
   "execution_count": 23,
   "id": "6e14e8c4",
   "metadata": {},
   "outputs": [
    {
     "name": "stdout",
     "output_type": "stream",
     "text": [
      "\n",
      "All courses and their enrolled students (if any):\n",
      "+------------------+------------------------------+-----------------+----------------------------------+\n",
      "|   Student Name   |        Student Email         | Enrollment Date |           Course Name            |\n",
      "+------------------+------------------------------+-----------------+----------------------------------+\n",
      "| Alice Wonderland |      alice@example.com       |    2023-10-25   | Introduction to Computer Science |\n",
      "| Aishwarya Sharma | aishwarya.sharma@example.com |    2025-01-04   | Introduction to Computer Science |\n",
      "|   Rahul Kumar    |   rahul.kumar@example.com    |    2023-10-27   | Introduction to Computer Science |\n",
      "| Alice Wonderland |      alice@example.com       |    2024-02-01   |       Advanced Mathematics       |\n",
      "| Aishwarya Sharma | aishwarya.sharma@example.com |    2023-10-26   |       Physics I: Mechanics       |\n",
      "|   Priya Patel    |   priya.patel@example.com    |    2024-04-10   |   Chemistry: Organic Chemistry   |\n",
      "|   Vikram Singh   |   vikram.singh@example.com   |    2023-10-28   |      Biology: Cell Biology       |\n",
      "|   Sneha Reddy    |   sneha.reddy@example.com    |    2023-10-29   |   Database Management Systems    |\n",
      "|   Arjun Menon    |   arjun.menon@example.com    |    2023-10-29   |       Software Engineering       |\n",
      "|       None       |             None             |       None      |  Data Structures and Algorithms  |\n",
      "|       None       |             None             |       None      |         Web Development          |\n",
      "+------------------+------------------------------+-----------------+----------------------------------+\n"
     ]
    }
   ],
   "source": [
    "# RIGHT JOIN equivalent: Swap the tables in a LEFT JOIN\n",
    "cursor.execute(\"\"\"\n",
    "SELECT \n",
    "    s.name as student_name,\n",
    "    s.email as student_email,\n",
    "    e.enrollment_date,\n",
    "    c.course_name\n",
    "FROM courses c\n",
    "LEFT JOIN enrollments e ON c.course_id = e.course_id\n",
    "LEFT JOIN students s ON e.student_id = s.student_id;\n",
    "\"\"\")\n",
    "\n",
    "# Fetch the results\n",
    "right_join_results = cursor.fetchall()\n",
    "\n",
    "# Create a DataFrame from the results\n",
    "right_join_df = pd.DataFrame(right_join_results, columns=['Student Name', 'Student Email', 'Enrollment Date', 'Course Name'])\n",
    "\n",
    "# Display the DataFrame\n",
    "print(\"\\nAll courses and their enrolled students (if any):\")\n",
    "x = PrettyTable()\n",
    "x.field_names = [\"Student Name\", \"Student Email\", \"Enrollment Date\", \"Course Name\"]\n",
    "for row in right_join_results:\n",
    "    x.add_row(row)\n",
    "print(x)"
   ]
  },
  {
   "cell_type": "code",
   "execution_count": 30,
   "id": "0edf0173",
   "metadata": {},
   "outputs": [
    {
     "name": "stdout",
     "output_type": "stream",
     "text": [
      "\n",
      "Courses with no enrollments:\n",
      "+--------------------------------+\n",
      "|          Course Name           |\n",
      "+--------------------------------+\n",
      "| Data Structures and Algorithms |\n",
      "|        Web Development         |\n",
      "+--------------------------------+\n"
     ]
    }
   ],
   "source": [
    "from prettytable import PrettyTable\n",
    "\n",
    "# Query to find courses with no enrollments\n",
    "cursor.execute(\"\"\"\n",
    "SELECT \n",
    "    c.course_name\n",
    "FROM courses c\n",
    "LEFT JOIN enrollments e ON c.course_id = e.course_id\n",
    "WHERE e.enrollment_id IS NULL;\n",
    "\"\"\")\n",
    "\n",
    "# Fetch the results\n",
    "no_enrollment_courses = cursor.fetchall()\n",
    "\n",
    "# Display the results in a PrettyTable\n",
    "x = PrettyTable()\n",
    "x.field_names = [\"Course Name\"]\n",
    "for course in no_enrollment_courses:\n",
    "    x.add_row(course)\n",
    "print(\"\\nCourses with no enrollments:\")\n",
    "print(x)"
   ]
  },
  {
   "cell_type": "markdown",
   "id": "f247ed38",
   "metadata": {},
   "source": [
    "> **FULL OUTER JOIN**\n",
    "\n",
    "A `FULL OUTER JOIN` in SQL combines the results of both `LEFT` and `RIGHT OUTER JOIN`s. \n",
    "It returns all rows from both tables, matching records where the join condition is met and including unmatched rows from both tables with `NULL` values in place of missing data. \n",
    "This join type is useful when you need to see all data from both tables, \n",
    "- regardless of whether there are matching rows, \n",
    "- and is particularly valuable for identifying missing relationships or \n",
    "- performing data reconciliation between two tables."
   ]
  },
  {
   "cell_type": "code",
   "execution_count": 31,
   "id": "6f073dd9",
   "metadata": {
    "vscode": {
     "languageId": "ruby"
    }
   },
   "outputs": [
    {
     "name": "stdout",
     "output_type": "stream",
     "text": [
      "\n",
      "Full Outer Join Results:\n",
      "+--------------------+--------------------------------+-----------------+----------------------------------+\n",
      "|    Student Name    |         Student Email          | Enrollment Date |           Course Name            |\n",
      "+--------------------+--------------------------------+-----------------+----------------------------------+\n",
      "|        None        |              None              |       None      |  Data Structures and Algorithms  |\n",
      "|        None        |              None              |       None      |         Web Development          |\n",
      "|  Aishwarya Sharma  |  aishwarya.sharma@example.com  |    2023-10-26   |       Physics I: Mechanics       |\n",
      "|  Aishwarya Sharma  |  aishwarya.sharma@example.com  |    2025-01-04   | Introduction to Computer Science |\n",
      "|  Alice Wonderland  |       alice@example.com        |    2023-10-25   | Introduction to Computer Science |\n",
      "|  Alice Wonderland  |       alice@example.com        |    2024-02-01   |       Advanced Mathematics       |\n",
      "|    Arjun Menon     |    arjun.menon@example.com     |    2023-10-29   |       Software Engineering       |\n",
      "| Deepika Chatterjee | deepika.chatterjee@example.com |       None      |               None               |\n",
      "|    Priya Patel     |    priya.patel@example.com     |    2024-04-10   |   Chemistry: Organic Chemistry   |\n",
      "|    Rahul Kumar     |    rahul.kumar@example.com     |    2023-10-27   | Introduction to Computer Science |\n",
      "|    Sneha Reddy     |    sneha.reddy@example.com     |    2023-10-29   |   Database Management Systems    |\n",
      "|    Vikram Singh    |    vikram.singh@example.com    |    2023-10-28   |      Biology: Cell Biology       |\n",
      "+--------------------+--------------------------------+-----------------+----------------------------------+\n"
     ]
    }
   ],
   "source": [
    "from prettytable import PrettyTable\n",
    "\n",
    "# FULL OUTER JOIN simulation using UNION of LEFT JOIN and RIGHT JOIN\n",
    "cursor.execute(\"\"\"\n",
    "SELECT \n",
    "    s.name AS student_name,\n",
    "    s.email AS student_email,\n",
    "    e.enrollment_date,\n",
    "    c.course_name\n",
    "FROM students s\n",
    "LEFT JOIN enrollments e ON s.student_id = e.student_id\n",
    "LEFT JOIN courses c ON e.course_id = c.course_id\n",
    "\n",
    "UNION\n",
    "\n",
    "SELECT \n",
    "    s.name AS student_name,\n",
    "    s.email AS student_email,\n",
    "    e.enrollment_date,\n",
    "    c.course_name\n",
    "FROM courses c\n",
    "LEFT JOIN enrollments e ON c.course_id = e.course_id\n",
    "LEFT JOIN students s ON e.student_id = s.student_id;\n",
    "\"\"\")\n",
    "\n",
    "# Fetch the results\n",
    "full_outer_join_results = cursor.fetchall()\n",
    "\n",
    "# Display the results using PrettyTable\n",
    "x = PrettyTable()\n",
    "x.field_names = [\"Student Name\", \"Student Email\", \"Enrollment Date\", \"Course Name\"]\n",
    "for row in full_outer_join_results:\n",
    "    x.add_row(row)\n",
    "print(\"\\nFull Outer Join Results:\")\n",
    "print(x)"
   ]
  },
  {
   "cell_type": "markdown",
   "id": "36c338af",
   "metadata": {},
   "source": [
    "# 🔄 Self Join in SQL\n",
    "\n",
    "> **A self join is when a table is joined with itself. It's particularly useful when a table contains hierarchical or recursive data.**\n",
    "\n",
    "## 💡 Key Points\n",
    "- Requires unique aliases for each instance of the table\n",
    "- Can use any type of join (INNER, LEFT, RIGHT)\n",
    "- Helps establish relationships within the same table\n",
    "- Useful for:\n",
    "  - Organizational hierarchies\n",
    "  - Sequential relationships\n",
    "  - Peer-to-peer relationships\n",
    "  - Recursive queries\n",
    "\n",
    "## 📌 Example\n",
    "> **Suppose we have a table called `employees` with the following structure:**\n",
    "\n",
    "| employee_id | name | manager_id |\n",
    "| --- | --- | --- |\n",
    "| 1 | Alice | NULL |\n",
    "| 2 | Bob | 1 |\n",
    "| 3 | Charlie | 1 |\n",
    "| 4 | David | 2 |\n",
    "| 5 | Eve | 2 |\n",
    "\n",
    "\n",
    "> **We want to find out who manages whom.**\n",
    "\n",
    "## 📝 SQL Query\n",
    "```sql\n",
    "SELECT \n",
    "    e1.name AS employee_name,\n",
    "    e2.name AS manager_name\n",
    "FROM \n",
    "    employees e1\n",
    "JOIN \n",
    "    employees e2 ON e1.manager_id = e2.employee_id;\n",
    "```\n"
   ]
  },
  {
   "cell_type": "markdown",
   "id": "f2d12c15",
   "metadata": {},
   "source": [
    "### 🔍 Example Scenarios"
   ]
  },
  {
   "cell_type": "code",
   "execution_count": 33,
   "id": "35d4af41",
   "metadata": {},
   "outputs": [
    {
     "name": "stdout",
     "output_type": "stream",
     "text": [
      "\n",
      "Students in the same department:\n",
      "+------------------+--------------------+\n",
      "|    Student 1     |     Student 2      |\n",
      "+------------------+--------------------+\n",
      "| Alice Wonderland |  Aishwarya Sharma  |\n",
      "| Alice Wonderland | Deepika Chatterjee |\n",
      "| Alice Wonderland |    Vikram Singh    |\n",
      "| Aishwarya Sharma | Deepika Chatterjee |\n",
      "| Aishwarya Sharma |    Vikram Singh    |\n",
      "|   Rahul Kumar    |    Sneha Reddy     |\n",
      "|   Priya Patel    |    Arjun Menon     |\n",
      "|   Vikram Singh   | Deepika Chatterjee |\n",
      "+------------------+--------------------+\n"
     ]
    }
   ],
   "source": [
    "from prettytable import PrettyTable\n",
    "# Query to find students in the same department\n",
    "cursor.execute(\"\"\"\n",
    "SELECT \n",
    "    s1.name as student1,\n",
    "    s2.name as student2\n",
    "FROM students s1\n",
    "JOIN students s2 ON s1.department_id = s2.department_id\n",
    "WHERE s1.student_id < s2.student_id;\n",
    "\"\"\")\n",
    "\n",
    "# Fetch the results\n",
    "same_department_results = cursor.fetchall()\n",
    "\n",
    "# Display the results using PrettyTable\n",
    "\n",
    "x = PrettyTable()\n",
    "x.field_names = [\"Student 1\", \"Student 2\"]\n",
    "for row in same_department_results:\n",
    "    x.add_row(row)\n",
    "print(\"\\nStudents in the same department:\")\n",
    "print(x)"
   ]
  },
  {
   "cell_type": "markdown",
   "id": "eb01e56a",
   "metadata": {},
   "source": [
    "### 🔍 Explanation of the Query\n",
    "\n",
    "The query performs a **Self Join** on the `students` table to find pairs of students who belong to the same department. Here's a breakdown of what happens:\n",
    "\n",
    "1. **Self Join**:\n",
    "    - The `students` table is joined with itself using the condition `s1.department_id = s2.department_id`.\n",
    "    - This ensures that only students from the same department are paired.\n",
    "\n",
    "2. **Aliasing**:\n",
    "    - The table is aliased as `s1` and `s2` to differentiate between the two instances of the same table.\n",
    "\n",
    "3. **Condition to Avoid Duplicate Pairs**:\n",
    "    - The condition `s1.student_id < s2.student_id` ensures that each pair is listed only once (e.g., if Alice and Bob are in the same department, only one row is returned for this pair).\n",
    "\n",
    "4. **Columns Selected**:\n",
    "    - The query selects the names of the two students (`s1.name` as `student1` and `s2.name` as `student2`).\n",
    "\n",
    "5. **Result**:\n",
    "    - The query returns a list of student pairs who belong to the same department.\n",
    "\n",
    "### 📊 Use Case\n",
    "This query is useful for:\n",
    "- Identifying relationships or collaborations between students in the same department.\n",
    "- Analyzing departmental groupings or connections.\n",
    "\n",
    "### 📝 Example Output\n",
    "| Student 1          | Student 2          |\n",
    "|---------------------|--------------------|\n",
    "| Alice Wonderland    | Aishwarya Sharma  |\n",
    "| Alice Wonderland    | Deepika Chatterjee|\n",
    "| Alice Wonderland    | Vikram Singh      |\n",
    "| Aishwarya Sharma    | Deepika Chatterjee|\n",
    "| Aishwarya Sharma    | Vikram Singh      |\n",
    "| Rahul Kumar         | Sneha Reddy       |\n",
    "| Priya Patel         | Arjun Menon       |\n",
    "| Vikram Singh        | Deepika Chatterjee|"
   ]
  },
  {
   "cell_type": "code",
   "execution_count": null,
   "id": "2b93cb9b",
   "metadata": {},
   "outputs": [],
   "source": []
  },
  {
   "cell_type": "code",
   "execution_count": null,
   "id": "bbaf1db7",
   "metadata": {
    "vscode": {
     "languageId": "ruby"
    }
   },
   "outputs": [],
   "source": []
  }
 ],
 "metadata": {
  "kernelspec": {
   "display_name": "Python 3",
   "language": "python",
   "name": "python3"
  },
  "language_info": {
   "codemirror_mode": {
    "name": "ipython",
    "version": 3
   },
   "file_extension": ".py",
   "mimetype": "text/x-python",
   "name": "python",
   "nbconvert_exporter": "python",
   "pygments_lexer": "ipython3",
   "version": "3.12.10"
  }
 },
 "nbformat": 4,
 "nbformat_minor": 5
}
