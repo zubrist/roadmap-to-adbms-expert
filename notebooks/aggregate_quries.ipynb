{
 "cells": [
  {
   "cell_type": "markdown",
   "metadata": {},
   "source": [
    "*3.1* Aggregate Quries"
   ]
  },
  {
   "cell_type": "code",
   "execution_count": 2,
   "metadata": {},
   "outputs": [],
   "source": [
    "import sqlite3\n",
    "import pandas as pd"
   ]
  },
  {
   "cell_type": "code",
   "execution_count": 3,
   "metadata": {},
   "outputs": [],
   "source": [
    "# Connect to the SQLite database\n",
    "\n",
    "conn =  sqlite3.connect(\"../database/db.sqlite3\")\n",
    "\n",
    "# Create a cursor object\n",
    "cursor = conn.cursor()\n",
    "\n"
   ]
  },
  {
   "cell_type": "code",
   "execution_count": 3,
   "metadata": {},
   "outputs": [
    {
     "name": "stdout",
     "output_type": "stream",
     "text": [
      "   total_students\n",
      "0               8\n"
     ]
    }
   ],
   "source": [
    "#1. Student Analytics\n",
    "# -------------------\n",
    "\n",
    "# Count total number of students\n",
    "count_query = f''' \n",
    "                SELECT COUNT(*) as total_students \n",
    "                FROM students;\n",
    "                '''\n",
    "count_result = pd.read_sql(count_query, conn)\n",
    "print(count_result)\n",
    "\n",
    "# use of 'as'\n",
    "\n",
    "# In SQL, the \"AS\" keyword is used to rename a column or table in the result set of a \n",
    "# query. This is particularly useful for making the output more readable or for \n",
    "# simplifying column names in complex queries. \n",
    "\n",
    "# run the code without ' as total_student ' to see the difference "
   ]
  },
  {
   "cell_type": "code",
   "execution_count": 17,
   "metadata": {},
   "outputs": [
    {
     "name": "stdout",
     "output_type": "stream",
     "text": [
      "   department_id  student_per_department\n",
      "0              1                       4\n",
      "1              2                       2\n",
      "2              3                       2\n"
     ]
    }
   ],
   "source": [
    "# Count students by department_id\n",
    "sCount_query = f'''\n",
    "                SELECT department_id, COUNT(*) as student_per_department\n",
    "                FROM students\n",
    "                GROUP BY department_id                \n",
    " '''\n",
    "sCount_result = pd.read_sql(sCount_query,conn)\n",
    "print(sCount_result)\n"
   ]
  },
  {
   "cell_type": "markdown",
   "metadata": {},
   "source": [
    "> Now, you're probably thinking, 'What's this **GROUP BY** business all about?' Well, wonder no more! We're about to dive in and explore the wonderful world of **GROUP BY**!\n",
    "\n",
    ">>The GROUP BY clause in SQL is used to group rows that have the same values in specified columns into aggregated data. It is often used in conjunction with aggregate functions like *COUNT()*, *SUM()*, *AVG()*, *MIN()*, and *MAX()* to perform calculations on each group of data.\n",
    "\n",
    "**Rules**:\n",
    "   - Columns in SELECT must be either:\n",
    "     * Included in GROUP BY clause\n",
    "     * Used with aggregate functions\n",
    "   - Groups rows with matching values\n",
    "   - Applied before HAVING clause"
   ]
  },
  {
   "cell_type": "code",
   "execution_count": 4,
   "metadata": {},
   "outputs": [
    {
     "name": "stdout",
     "output_type": "stream",
     "text": [
      "  birth_year  number_of_students\n",
      "0       2000                   3\n",
      "1       2001                   2\n",
      "2       2002                   2\n",
      "3       2003                   1\n"
     ]
    }
   ],
   "source": [
    "# Get Age demographics of students \n",
    "age_query = f''' \n",
    "            SELECT \n",
    "                strftime('%Y', date_of_birth) as birth_year,\n",
    "                COUNT(*) as number_of_students\n",
    "            FROM students\n",
    "            GROUP BY birth_year\n",
    "            ORDER BY birth_year;\n",
    "            '''\n",
    "\n",
    "age_query_result = pd.read_sql(age_query,conn)\n",
    "print(age_query_result)"
   ]
  },
  {
   "cell_type": "markdown",
   "metadata": {},
   "source": [
    "> Worried about *strftime('%Y')*\n",
    "\n",
    ">>The purpose of this line is to extract the year from a date of birth and format it as a string in the format '%Y', which stands for a four-digit year  "
   ]
  },
  {
   "cell_type": "code",
   "execution_count": 5,
   "metadata": {},
   "outputs": [
    {
     "name": "stdout",
     "output_type": "stream",
     "text": [
      "   year  yearly_enrollments\n",
      "0  2023                   6\n",
      "1  2024                   2\n",
      "2  2025                   1\n"
     ]
    }
   ],
   "source": [
    "enroll_query= f''' \n",
    "                SELECT \n",
    "                    strftime('%Y', enrollment_date) as year,\n",
    "                    COUNT(*) as yearly_enrollments\n",
    "                FROM enrollments\n",
    "                GROUP BY year\n",
    "                ORDER BY year;\n",
    "            ''' \n",
    "enroll_query_result = pd.read_sql(enroll_query,conn)\n",
    "print(enroll_query_result)"
   ]
  },
  {
   "cell_type": "markdown",
   "metadata": {},
   "source": [
    "> ORDER BY? Where did THAT come from?!\n",
    "\n",
    ">> Ah, ORDER BY, the ultimate party crasher - shows up uninvited, but rearranges everything anyway!\n",
    "\n",
    ">> The **ORDER BY** clause in SQL is used to sort the result set returned by a query based on one or more columns. In your example, the **ORDER BY** year clause is used to sort the result set by the *year* column in *ascending* order.\n",
    "\n",
    ">> If you wanted to sort in descending order, you would use **ORDER BY** year **DESC**."
   ]
  },
  {
   "cell_type": "code",
   "execution_count": 10,
   "metadata": {},
   "outputs": [
    {
     "name": "stdout",
     "output_type": "stream",
     "text": [
      "   lowest_salary  highest_salary  average_salary\n",
      "0          30000           80000         58000.0\n"
     ]
    }
   ],
   "source": [
    "#Salary statistics\n",
    "stat_query = f'''\n",
    "          SELECT \n",
    "            MIN(salary) as lowest_salary,\n",
    "            MAX(salary) as highest_salary,\n",
    "            AVG(salary) as average_salary\n",
    "        FROM role;  \n",
    " '''\n",
    "\n",
    "stat_query_result = pd.read_sql(stat_query,conn)\n",
    "print(stat_query_result)\n",
    "\n",
    "# I am hoping this cell is self-explanatory "
   ]
  },
  {
   "cell_type": "code",
   "execution_count": 12,
   "metadata": {},
   "outputs": [
    {
     "name": "stdout",
     "output_type": "stream",
     "text": [
      "   student_id  phone_count\n",
      "0           1            5\n",
      "1           2            4\n",
      "2           3            2\n",
      "3           4            2\n",
      "4           5            3\n",
      "5           6            2\n",
      "6           7            2\n"
     ]
    }
   ],
   "source": [
    "#Find students with multiple phone numbers\n",
    "phone_query = f'''\n",
    "                SELECT \n",
    "                    student_id,\n",
    "                    COUNT(*) as phone_count\n",
    "                FROM student_phones\n",
    "                GROUP BY student_id\n",
    "                HAVING phone_count > 1;\n",
    "            '''\n",
    "phone_query_result = pd.read_sql(phone_query,conn)\n",
    "print(phone_query_result)"
   ]
  },
  {
   "cell_type": "markdown",
   "metadata": {},
   "source": [
    "> So, Let`s talk about our last clause **Having**\n",
    ">> The **HAVING** clause was added to SQL because the **WHERE** keyword cannot be used with aggregate functions. \n",
    "* bouncer! right ?\n",
    "\n",
    ">> Let me Explain --\n",
    ">> - SQL queries are executed in a specific logical order. A simplified version of this order is:\n",
    ">>      - SELECT: Select the columns to be included in the result.\n",
    ">>      - FROM and JOIN: Determine the source tables and how they're combined.\n",
    ">>      - WHERE: Filter individual rows based on specified conditions.\n",
    ">>      - GROUP BY: Group rows with the same values in specified columns.\n",
    ">>      - HAVING: Filter groups of rows based on specified conditions.\n",
    ">>      - ORDER BY: Sort the results.\n",
    "\n",
    ">> - The Problem with WHERE and Aggregate Functions:\n",
    ">>      - The WHERE clause operates on individual rows before any grouping or aggregation occurs.\n",
    ">>      - Aggregate functions ( i.e. COUNT(), SUM(), AVG(), MAX(), MIN() ) calculate values based on groups of rows after the WHERE clause has been applied.\n",
    ">>      - Therefore, you can't use WHERE to filter results based on the output of an aggregate function because that output doesn't exist yet when the WHERE clause is evaluated.\n",
    "\n",
    ">Example: Table : **Sales**\n",
    "\n",
    "| P_id     | quantity |\n",
    "| -------- | -------  |\n",
    "| 1        | 10       |\n",
    "| 2        | 20       |\n",
    "| 3        | 30       |\n",
    "\n",
    "> SQL:\n",
    ">> SELECT product_id, SUM(quantity)\n",
    ">>\n",
    ">> FROM sales\n",
    ">> \n",
    ">> WHERE SUM(quantity) > 25\n",
    ">>\n",
    ">> GROUP BY product_id;\n",
    ">>\n",
    "\n",
    "> Why This Fails:\n",
    "\n",
    "- *WHERE* Clause Evaluation:\n",
    "    -  The *WHERE* clause is processed before the GROUP BY and SUM() operations.\n",
    "\n",
    "    - At this stage, the database is looking at individual rows. It doesn't know the total quantity for each product_id yet.\n",
    "\n",
    "    - *SUM(quantity)* is an aggregate function that needs to be calculated on groups of rows. Since the rows have not been grouped yet, SUM(quantity) cannot be evaluated.\n",
    "\n",
    "    - Therefore, the WHERE *SUM(quantity) > 25* condition is invalid. The database doesn't know what SUM(quantity) is at this point.\n",
    "\n",
    "\n",
    "> SQL:\n",
    ">>\n",
    ">>SELECT product_id, SUM(quantity)\n",
    ">>\n",
    ">>FROM sales\n",
    ">>\n",
    ">>GROUP BY product_id\n",
    ">>\n",
    ">>HAVING SUM(quantity) > 25;\n",
    ">> \n",
    "> Why This Works:\n",
    "\n",
    "- GROUP BY and SUM():\n",
    "    - The GROUP BY product_id clause groups the rows by product_id.\n",
    "    - The SUM(quantity) function is then calculated for each group, giving us the total quantity sold for each product_id.\n",
    "- *HAVING* Clause Evaluation:\n",
    "    - The HAVING SUM(quantity) > 25 clause is evaluated after the SUM() calculations.\n",
    "    - It filters the groups where the total quantity is greater than 25."
   ]
  },
  {
   "cell_type": "code",
   "execution_count": 15,
   "metadata": {},
   "outputs": [
    {
     "name": "stdout",
     "output_type": "stream",
     "text": [
      "   department_id  student_count\n",
      "0              1              4\n",
      "1              3              2\n",
      "2              2              2\n"
     ]
    }
   ],
   "source": [
    "#Department Distribution\n",
    "dist_query = f''' \n",
    "            SELECT \n",
    "                department_id,\n",
    "                COUNT(*) as student_count\n",
    "            FROM students\n",
    "            GROUP BY department_id\n",
    "            HAVING student_count > 1\n",
    "            ORDER BY student_count DESC;\n",
    "            '''\n",
    "dist_query_result = pd.read_sql(dist_query,conn)\n",
    "print(dist_query_result)"
   ]
  },
  {
   "cell_type": "code",
   "execution_count": 4,
   "metadata": {},
   "outputs": [
    {
     "name": "stdout",
     "output_type": "stream",
     "text": [
      "   total_salary\n",
      "0        290000\n"
     ]
    }
   ],
   "source": [
    "# Calculate the total salary for all roles\n",
    "sum_query = f'''\n",
    "            SELECT \n",
    "                SUM(salary) as total_salary\n",
    "            FROM role;\n",
    "            '''\n",
    "sum_query_result = pd.read_sql(sum_query, conn)\n",
    "print(sum_query_result)"
   ]
  }
 ],
 "metadata": {
  "kernelspec": {
   "display_name": "Python 3",
   "language": "python",
   "name": "python3"
  },
  "language_info": {
   "codemirror_mode": {
    "name": "ipython",
    "version": 3
   },
   "file_extension": ".py",
   "mimetype": "text/x-python",
   "name": "python",
   "nbconvert_exporter": "python",
   "pygments_lexer": "ipython3",
   "version": "3.12.10"
  }
 },
 "nbformat": 4,
 "nbformat_minor": 2
}
