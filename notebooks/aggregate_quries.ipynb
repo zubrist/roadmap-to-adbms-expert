{
 "cells": [
  {
   "cell_type": "markdown",
   "metadata": {},
   "source": [
    "*3.1* Aggregate Quries"
   ]
  },
  {
   "cell_type": "code",
   "execution_count": 1,
   "metadata": {},
   "outputs": [],
   "source": [
    "import sqlite3\n",
    "import pandas as pd"
   ]
  },
  {
   "cell_type": "code",
   "execution_count": 2,
   "metadata": {},
   "outputs": [],
   "source": [
    "# Connect to the SQLite database\n",
    "\n",
    "conn =  sqlite3.connect(\"../database/db.sqlite3\")\n",
    "\n",
    "# Create a cursor object\n",
    "cursor = conn.cursor()\n",
    "\n"
   ]
  },
  {
   "cell_type": "code",
   "execution_count": 3,
   "metadata": {},
   "outputs": [
    {
     "name": "stdout",
     "output_type": "stream",
     "text": [
      "   total_students\n",
      "0               8\n"
     ]
    }
   ],
   "source": [
    "#1. Student Analytics\n",
    "# -------------------\n",
    "\n",
    "# Count total number of students\n",
    "count_query = f''' \n",
    "                SELECT COUNT(*) as total_students \n",
    "                FROM students;\n",
    "                '''\n",
    "count_result = pd.read_sql(count_query, conn)\n",
    "print(count_result)\n",
    "\n",
    "# use of 'as'\n",
    "\n",
    "# In SQL, the \"AS\" keyword is used to rename a column or table in the result set of a \n",
    "# query. This is particularly useful for making the output more readable or for \n",
    "# simplifying column names in complex queries. \n",
    "\n",
    "# run the code without ' as total_student ' to see the difference "
   ]
  },
  {
   "cell_type": "code",
   "execution_count": 17,
   "metadata": {},
   "outputs": [
    {
     "name": "stdout",
     "output_type": "stream",
     "text": [
      "   department_id  student_per_department\n",
      "0              1                       4\n",
      "1              2                       2\n",
      "2              3                       2\n"
     ]
    }
   ],
   "source": [
    "# Count students by department_id\n",
    "sCount_query = f'''\n",
    "                SELECT department_id, COUNT(*) as student_per_department\n",
    "                FROM students\n",
    "                GROUP BY department_id                \n",
    " '''\n",
    "sCount_result = pd.read_sql(sCount_query,conn)\n",
    "print(sCount_result)\n"
   ]
  },
  {
   "cell_type": "markdown",
   "metadata": {},
   "source": [
    "> Now, you're probably thinking, 'What's this **GROUP BY** business all about?' Well, wonder no more! We're about to dive in and explore the wonderful world of **GROUP BY**!\n",
    "\n",
    ">>The GROUP BY clause in SQL is used to group rows that have the same values in specified columns into aggregated data. It is often used in conjunction with aggregate functions like *COUNT()*, *SUM()*, *AVG()*, *MIN()*, and *MAX()* to perform calculations on each group of data.\n",
    "\n",
    "**Rules**:\n",
    "   - Columns in SELECT must be either:\n",
    "     * Included in GROUP BY clause\n",
    "     * Used with aggregate functions\n",
    "   - Groups rows with matching values\n",
    "   - Applied before HAVING clause"
   ]
  },
  {
   "cell_type": "code",
   "execution_count": 4,
   "metadata": {},
   "outputs": [
    {
     "name": "stdout",
     "output_type": "stream",
     "text": [
      "  birth_year  number_of_students\n",
      "0       2000                   3\n",
      "1       2001                   2\n",
      "2       2002                   2\n",
      "3       2003                   1\n"
     ]
    }
   ],
   "source": [
    "# Get Age demographics of students \n",
    "age_query = f''' \n",
    "            SELECT \n",
    "                strftime('%Y', date_of_birth) as birth_year,\n",
    "                COUNT(*) as number_of_students\n",
    "            FROM students\n",
    "            GROUP BY birth_year\n",
    "            ORDER BY birth_year;\n",
    "            '''\n",
    "\n",
    "age_query_result = pd.read_sql(age_query,conn)\n",
    "print(age_query_result)"
   ]
  },
  {
   "cell_type": "markdown",
   "metadata": {},
   "source": [
    "> Worried about *strftime('%Y')*\n",
    "\n",
    ">>The purpose of this line is to extract the year from a date of birth and format it as a string in the format '%Y', which stands for a four-digit year  "
   ]
  },
  {
   "cell_type": "code",
   "execution_count": 5,
   "metadata": {},
   "outputs": [
    {
     "name": "stdout",
     "output_type": "stream",
     "text": [
      "   year  yearly_enrollments\n",
      "0  2023                   6\n",
      "1  2024                   2\n",
      "2  2025                   1\n"
     ]
    }
   ],
   "source": [
    "enroll_query= f''' \n",
    "                SELECT \n",
    "                    strftime('%Y', enrollment_date) as year,\n",
    "                    COUNT(*) as yearly_enrollments\n",
    "                FROM enrollments\n",
    "                GROUP BY year\n",
    "                ORDER BY year;\n",
    "            ''' \n",
    "enroll_query_result = pd.read_sql(enroll_query,conn)\n",
    "print(enroll_query_result)"
   ]
  },
  {
   "cell_type": "markdown",
   "metadata": {},
   "source": [
    "> ORDER BY? Where did THAT come from?!\n",
    "\n",
    ">> Ah, ORDER BY, the ultimate party crasher - shows up uninvited, but rearranges everything anyway!\n",
    "\n",
    ">> The **ORDER BY** clause in SQL is used to sort the result set returned by a query based on one or more columns. In your example, the **ORDER BY** year clause is used to sort the result set by the *year* column in *ascending* order.\n",
    "\n",
    ">> If you wanted to sort in descending order, you would use **ORDER BY** year **DESC**."
   ]
  },
  {
   "cell_type": "code",
   "execution_count": 10,
   "metadata": {},
   "outputs": [
    {
     "name": "stdout",
     "output_type": "stream",
     "text": [
      "   lowest_salary  highest_salary  average_salary\n",
      "0          30000           80000         58000.0\n"
     ]
    }
   ],
   "source": [
    "#Salary statistics\n",
    "stat_query = f'''\n",
    "          SELECT \n",
    "            MIN(salary) as lowest_salary,\n",
    "            MAX(salary) as highest_salary,\n",
    "            AVG(salary) as average_salary\n",
    "        FROM role;  \n",
    " '''\n",
    "\n",
    "stat_query_result = pd.read_sql(stat_query,conn)\n",
    "print(stat_query_result)\n",
    "\n",
    "# I am hoping this cell is self-explanatory "
   ]
  },
  {
   "cell_type": "code",
   "execution_count": null,
   "metadata": {},
   "outputs": [],
   "source": []
  }
 ],
 "metadata": {
  "kernelspec": {
   "display_name": "Python 3",
   "language": "python",
   "name": "python3"
  },
  "language_info": {
   "codemirror_mode": {
    "name": "ipython",
    "version": 3
   },
   "file_extension": ".py",
   "mimetype": "text/x-python",
   "name": "python",
   "nbconvert_exporter": "python",
   "pygments_lexer": "ipython3",
   "version": "3.12.9"
  }
 },
 "nbformat": 4,
 "nbformat_minor": 2
}
