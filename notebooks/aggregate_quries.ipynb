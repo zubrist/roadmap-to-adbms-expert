{
 "cells": [
  {
   "cell_type": "markdown",
   "metadata": {},
   "source": [
    "*3.1* Aggregate Quries"
   ]
  },
  {
   "cell_type": "code",
   "execution_count": 2,
   "metadata": {},
   "outputs": [],
   "source": [
    "import sqlite3\n",
    "import pandas as pd"
   ]
  },
  {
   "cell_type": "code",
   "execution_count": 3,
   "metadata": {},
   "outputs": [],
   "source": [
    "# Connect to the SQLite database\n",
    "\n",
    "conn =  sqlite3.connect(\"../database/db.sqlite3\")\n",
    "\n",
    "# Create a cursor object\n",
    "cursor = conn.cursor()\n",
    "\n"
   ]
  },
  {
   "cell_type": "code",
   "execution_count": 12,
   "metadata": {},
   "outputs": [
    {
     "name": "stdout",
     "output_type": "stream",
     "text": [
      "   total_students\n",
      "0               8\n"
     ]
    }
   ],
   "source": [
    "#1. Student Analytics\n",
    "# -------------------\n",
    "\n",
    "# Count total number of students\n",
    "count_query = f''' \n",
    "                SELECT COUNT(*) as total_students \n",
    "                FROM students;\n",
    "                '''\n",
    "count_result = pd.read_sql(count_query, conn)\n",
    "print(count_result)\n",
    "\n",
    "# use of 'as'\n",
    "\n",
    "# In SQL, the \"AS\" keyword is used to rename a column or table in the result set of a \n",
    "# query. This is particularly useful for making the output more readable or for \n",
    "# simplifying column names in complex queries. \n",
    "\n",
    "# run the code without ' as total_student ' to see the difference "
   ]
  },
  {
   "cell_type": "code",
   "execution_count": 17,
   "metadata": {},
   "outputs": [
    {
     "name": "stdout",
     "output_type": "stream",
     "text": [
      "   department_id  student_per_department\n",
      "0              1                       4\n",
      "1              2                       2\n",
      "2              3                       2\n"
     ]
    }
   ],
   "source": [
    "# Count students by department_id\n",
    "sCount_query = f'''\n",
    "                SELECT department_id, COUNT(*) as student_per_department\n",
    "                FROM students\n",
    "                GROUP BY department_id                \n",
    " '''\n",
    "sCount_result = pd.read_sql(sCount_query,conn)\n",
    "print(sCount_result)\n"
   ]
  },
  {
   "cell_type": "markdown",
   "metadata": {},
   "source": [
    "> Now, you're probably thinking, 'What's this **GROUP BY** business all about?' Well, wonder no more! We're about to dive in and explore the wonderful world of **GROUP BY**!\n",
    "\n",
    ">>The GROUP BY clause in SQL is used to group rows that have the same values in specified columns into aggregated data. It is often used in conjunction with aggregate functions like *COUNT()*, *SUM()*, *AVG()*, *MIN()*, and *MAX()* to perform calculations on each group of data.\n",
    "\n",
    "**Rules**:\n",
    "   - Columns in SELECT must be either:\n",
    "     * Included in GROUP BY clause\n",
    "     * Used with aggregate functions\n",
    "   - Groups rows with matching values\n",
    "   - Applied before HAVING clause"
   ]
  },
  {
   "cell_type": "markdown",
   "metadata": {},
   "source": []
  }
 ],
 "metadata": {
  "kernelspec": {
   "display_name": "Python 3",
   "language": "python",
   "name": "python3"
  },
  "language_info": {
   "codemirror_mode": {
    "name": "ipython",
    "version": 3
   },
   "file_extension": ".py",
   "mimetype": "text/x-python",
   "name": "python",
   "nbconvert_exporter": "python",
   "pygments_lexer": "ipython3",
   "version": "3.12.9"
  }
 },
 "nbformat": 4,
 "nbformat_minor": 2
}
