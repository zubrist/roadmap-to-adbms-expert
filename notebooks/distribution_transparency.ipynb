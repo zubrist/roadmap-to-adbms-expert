{
 "cells": [
  {
   "cell_type": "markdown",
   "metadata": {},
   "source": [
    "# Distribution Transparency in Distributed Database Management Systems (DDBMS)\n"
   ]
  },
  {
   "cell_type": "markdown",
   "metadata": {},
   "source": [
    "1. **Fragmentation Transparency**\n",
    "   - This is the highest level of transparency.\n",
    "   - The end user or programmer does not need to know that a database is partitioned.\n",
    "   - Neither fragment names nor fragment locations are specified prior to data access.\n",
    "\n",
    "2. **Location Transparency**\n",
    "   - Exists when the end user or programmer must specify the database fragment names but does not need to specify where those fragments are located.\n",
    "\n",
    "3. **Local Mapping Transparency**\n",
    "   - The end user or programmer must specify both the fragment names and their locations.\n"
   ]
  },
  {
   "cell_type": "markdown",
   "metadata": {},
   "source": [
    "## Example_1: EMPLOYEE Table\n",
    "To illustrate the use of various transparency levels, consider an `EMPLOYEE` table with the following attributes:\n",
    "- `EMP_NAME`\n",
    "- `EMP_DOB`\n",
    "- `EMP_ADDRESS`\n",
    "- `EMP_DEPARTMENT`\n",
    "- `EMP_SALARY`"
   ]
  },
  {
   "cell_type": "markdown",
   "metadata": {},
   "source": [
    "EMP_NAME | EMP_DOB      | EMP_ADDRESS   | EMP_DEPARTMENT | EMP_SALARY  | EMP_Location\n",
    "---------| ------------ | ------------- | ---------------| ------------|----------\n",
    "Alice    | 1958-05-15   | 123 Main St   | Sales          | 70000       | New York\n",
    "Bob      | 1970-11-20   | 456 Oak Ave   | HR             | 60000       | New York\n",
    "Carol    | 1955-02-10   | 789 Pine Ln   | Finance        |  80000      | New York\n",
    "David    | 1962-08-03   | 101 Elm Rd    | Marketing      | 75000       | Atlanta\n",
    "Eve      | 1959-12-28   | 202 Maple Dr  | IT             | 85000       | Atlanta\n",
    "Frank    | 1975-04-12   | 303 Cedar Ct  | Sales          | 65000       | Atlanta\n",
    "Grace    | 1968-09-25   | 404 Birch St  | HR             | 62000       | Miami\n",
    "Henry    | 1957-06-18   | 505 Willow Pl | Finance        | 82000       | Miami\n",
    "Ivy      | 1980-01-05   | 606 Spruce Wy | IT             | 78000       | Miami"
   ]
  },
  {
   "cell_type": "markdown",
   "metadata": {},
   "source": [
    "### Fragmentation by Location\n",
    "The `EMPLOYEE` data is distributed over three different locations:\n",
    "- New York (Fragment E1)\n",
    "- Atlanta (Fragment E2)\n",
    "- Miami (Fragment E3)"
   ]
  },
  {
   "cell_type": "markdown",
   "metadata": {},
   "source": [
    "E1 (NY):\n",
    "\n",
    "EMP_NAME   | EMP_DOB      | EMP_ADDRESS   | EMP_DEPARTMENT   | EMP_SALARY  | EMP_LOCATION\n",
    "---------- | ------------ | ------------- | ---------------- | ------------| ------------\n",
    "Alice      | 1958-05-15   | 123 Main St   | Sales            | 70000       | New York\n",
    "Bob        | 1970-11-20   | 456 Oak Ave   | HR               | 60000       | New York\n",
    "Carol      | 1955-02-10   | 789 Pine Ln   | Finance          | 80000       | New York"
   ]
  },
  {
   "cell_type": "markdown",
   "metadata": {},
   "source": [
    "E2 (ATL):\n",
    "\n",
    "EMP_NAME   | EMP_DOB      | EMP_ADDRESS   | EMP_DEPARTMENT   | EMP_SALARY  | EMP_LOCATION\n",
    "---------- | ------------ | ------------- | ---------------- | ------------| ------------\n",
    "David      | 1962-08-03   | 101 Elm Rd    | Marketing        | 75000       | Atlanta\n",
    "Eve        | 1959-12-28   | 202 Maple Dr  | IT               | 85000       | Atlanta\n",
    "Frank      | 1975-04-12   | 303 Cedar Ct  | Sales            | 65000       | Atlanta"
   ]
  },
  {
   "cell_type": "markdown",
   "metadata": {
    "vscode": {
     "languageId": "plaintext"
    }
   },
   "source": [
    "E3 (MIA):\n",
    "\n",
    "EMP_NAME   | EMP_DOB      | EMP_ADDRESS   | EMP_DEPARTMENT   | EMP_SALARY  | EMP_LOCATION\n",
    "---------- | ------------ | ------------- | ---------------- | ------------| ------------\n",
    "Grace      | 1968-09-25   | 404 Birch St  | HR               | 62000       | Miami\n",
    "Henry      | 1957-06-18   | 505 Willow Pl | Finance          | 82000       | Miami\n",
    "Ivy        | 1980-01-05   | 606 Spruce Wy | IT               | 78000       | Miami"
   ]
  },
  {
   "cell_type": "markdown",
   "metadata": {},
   "source": [
    "### Query Cases\n",
    "Suppose the end user wants to list all employees with a date of birth prior to *January 1, 1960*. The following cases illustrate how queries differ based on the level of distribution transparency supported:\n"
   ]
  },
  {
   "cell_type": "markdown",
   "metadata": {},
   "source": [
    "#### Case 1: Fragmentation Transparency\n",
    "- The query conforms to a non-distributed database query format:"
   ]
  },
  {
   "cell_type": "code",
   "execution_count": null,
   "metadata": {
    "vscode": {
     "languageId": "sql"
    }
   },
   "outputs": [],
   "source": [
    "SELECT *\n",
    "FROM EMPLOYEE\n",
    "WHERE EMP_DOB < '1960-01-01';"
   ]
  },
  {
   "cell_type": "markdown",
   "metadata": {},
   "source": [
    "Output:\n",
    "\n",
    "EMP_NAME | EMP_DOB    | EMP_ADDRESS  | EMP_DEPARTMENT | EMP_SALARY\n",
    "---------|------------|------------- |----------------|-----------\n",
    "Alice    | 1958-05-15 | 123 Main St  | Sales          | 70000\n",
    "Carol    | 1955-02-10 | 789 Pine Ln  | Finance        | 80000\n",
    "Eve      | 1959-12-28 | 202 Maple Dr | IT             | 85000\n",
    "Henry    | 1957-06-18 | 505 Willow Pl| Finance        | 82000"
   ]
  },
  {
   "cell_type": "markdown",
   "metadata": {},
   "source": [
    "#### Case 2: Location Transparency\n",
    "- Fragment names must be specified, but the location is not specified:"
   ]
  },
  {
   "cell_type": "code",
   "execution_count": null,
   "metadata": {
    "vscode": {
     "languageId": "sql"
    }
   },
   "outputs": [],
   "source": [
    "SELECT *\n",
    "FROM E1\n",
    "WHERE EMP_DOB < '1960-01-01'\n",
    "UNION\n",
    "SELECT *\n",
    "FROM E2\n",
    "WHERE EMP_DOB < '1960-01-01'\n",
    "UNION\n",
    "SELECT *\n",
    "FROM E3\n",
    "WHERE EMP_DOB < '1960-01-01';"
   ]
  },
  {
   "cell_type": "markdown",
   "metadata": {},
   "source": [
    "**Output:**\n",
    "\n",
    "(Same as Fragmentation Transparency)\n",
    "\n",
    "EMP_NAME | EMP_DOB    | EMP_ADDRESS  | EMP_DEPARTMENT | EMP_SALARY\n",
    "---------|------------|------------- |----------------|-----------\n",
    "Alice    | 1958-05-15 | 123 Main St  | Sales          | 70000\n",
    "Carol    | 1955-02-10 | 789 Pine Ln  | Finance        | 80000\n",
    "Eve      | 1959-12-28 | 202 Maple Dr | IT             | 85000\n",
    "Henry    | 1957-06-18 | 505 Willow Pl| Finance        | 82000"
   ]
  },
  {
   "cell_type": "markdown",
   "metadata": {},
   "source": [
    "#### Case 3: Local Mapping Transparency\n",
    "- Both the fragment name and its location must be specified:"
   ]
  },
  {
   "cell_type": "code",
   "execution_count": null,
   "metadata": {
    "vscode": {
     "languageId": "sql"
    }
   },
   "outputs": [],
   "source": [
    "SELECT *\n",
    "FROM E1 NODE NY\n",
    "WHERE EMP_DOB < '1960-01-01'\n",
    "UNION\n",
    "SELECT *\n",
    "FROM E2 NODE ATL\n",
    "WHERE EMP_DOB < '1960-01-01'\n",
    "UNION\n",
    "SELECT *\n",
    "FROM E3 NODE MIA\n",
    "WHERE EMP_DOB < '1960-01-01';"
   ]
  },
  {
   "cell_type": "markdown",
   "metadata": {},
   "source": [
    "**Output:**\n",
    "\n",
    "(Same as Fragmentation and Location Transparency)\n",
    "\n",
    "EMP_NAME | EMP_DOB    | EMP_ADDRESS  | EMP_DEPARTMENT | EMP_SALARY\n",
    "---------|------------|------------- |----------------|-----------\n",
    "Alice    | 1958-05-15 | 123 Main St  | Sales          | 70000\n",
    "Carol    | 1955-02-10 | 789 Pine Ln  | Finance        | 80000\n",
    "Eve      | 1959-12-28 | 202 Maple Dr | IT             | 85000\n",
    "Henry    | 1957-06-18 | 505 Willow Pl| Finance        | 82000"
   ]
  },
  {
   "cell_type": "markdown",
   "metadata": {},
   "source": [
    "Please Note:\n",
    "\n",
    "**NODE** Keyword:\n",
    "The NODE keyword (or a similar construct) is used to indicate the location or site of the fragment.\n",
    "\n",
    "- In Local Mapping Transparency example:\n",
    "    - E1 NODE NY means fragment E1 is located at the NY node (New York).\n",
    "    - E2 NODE ATL means fragment E2 is located at the ATL node (Atlanta).\n",
    "    - E3 NODE MIA means fragment E3 is located at the MIA node (Miami).\n",
    "\n",
    "- The NODE keyword is *not standard SQL*. It is a representation of how a system might implement local mapping transparency. Some systems may use other key words, or different methods all together.\n",
    "\n",
    "- Some systems might use:\n",
    "    - Server names.\n",
    "    - IP addresses.\n",
    "    - Logical names defined in a distributed data dictionary.\n",
    "    - A connection string.\n",
    "\n"
   ]
  },
  {
   "cell_type": "markdown",
   "metadata": {},
   "source": [
    "## Example 2: "
   ]
  },
  {
   "cell_type": "markdown",
   "metadata": {},
   "source": [
    "### Tables:\n",
    "- EMP(name, ecode, dcode, age, city)\n",
    "- DEPT(dcode, division, budget)"
   ]
  },
  {
   "cell_type": "markdown",
   "metadata": {},
   "source": [
    "EMP table is fragmented into 3 fragments:\n",
    "\n",
    "* EMP1 (Kolkata):\n",
    "\n",
    "name  |\tecode |\tdcode |\t age  |\tcity\n",
    "------|-------|-------|-------|------\n",
    "Amit  |\t101   |  D1   |\t30\t  | Kolkata\n",
    "Bina  |\t102   |\tD2    |\t28    |\tKolkata\n",
    "Cintu |\t103\t  | D4\t  | 35\t  | Kolkata\n",
    "\n",
    "* EMP2 (Delhi):\n",
    "\n",
    "name  |\tecode |\tdcode |\t age  |\tcity\n",
    "------|-------|-------|-------|------\n",
    "Dina  |\t104   |\tD1    |\t32\t  | Delhi\n",
    "Esha  |\t105   |\tD2    |\t29\t  | Delhi\n",
    "Fani  |\t106   |\tD3\t  | 31\t  | Delhi\n",
    "\n",
    "* EMP3 (Mumbai):\n",
    "\n",
    "name  |\tecode |\tdcode |\t age  |\tcity\n",
    "------|-------|-------|-------|------\n",
    "Frank |\t107   |\tD1    |\t33\t  | Mumbai\n",
    "Hari  |\t108   |\tD5    |\t27\t  | Mumbai\n",
    "Isha  |\t109   |\tD6\t  | 36\t  | Mumbai\n",
    "\n"
   ]
  },
  {
   "cell_type": "markdown",
   "metadata": {},
   "source": [
    "DEPT table is fragmented into 2 fragments:\n",
    "\n",
    "- DEPT1 (Budget < 1000000):\n",
    "\n",
    "dcode |\tdivision |\tbudget\n",
    "------|----------|--------\n",
    "D1    |\t1        |\t500000\n",
    "D2    |\t4        |\t600000\n",
    "D3    |\t5        |\t700000\n",
    "\n",
    "- DEPT2 (Budget >= 1000000):\n",
    "\n",
    "dcode |\tdivision  |\tbudget\n",
    "------|---------- |--------\n",
    "D3    |\t2         |\t1500000\n",
    "D4    |\t4         |\t2000000\n",
    "D6    |\t5    \t  |\t1800000\n"
   ]
  },
  {
   "cell_type": "markdown",
   "metadata": {},
   "source": [
    "**Query:**\n",
    "\n",
    "List the name and dcode for all employees who work in a department in division 4."
   ]
  },
  {
   "cell_type": "markdown",
   "metadata": {},
   "source": [
    "**Level 1 Query** - Fragmentation Transparency:"
   ]
  },
  {
   "cell_type": "code",
   "execution_count": null,
   "metadata": {
    "vscode": {
     "languageId": "sql"
    }
   },
   "outputs": [],
   "source": [
    "SELECT name, dcode\n",
    "FROM EMP\n",
    "WHERE dcode IN (SELECT dcode FROM DEPT WHERE division = 4);"
   ]
  },
  {
   "cell_type": "markdown",
   "metadata": {},
   "source": [
    "**Explanation:**\n",
    "\n",
    "The query joins the EMP and DEPT tables based on the dcode column.\n",
    "It filters the results to include only departments where division is 4.\n",
    "It selects the name and dcode columns from the resulting joined table.\n",
    "\n",
    "Output:\n",
    "\n",
    "name  |\tdcode\n",
    "------|-------\n",
    "Bina  |\tD2\n",
    "Cintu |\tD4"
   ]
  },
  {
   "cell_type": "markdown",
   "metadata": {},
   "source": [
    "**Level 2 query** - Location transparency"
   ]
  },
  {
   "cell_type": "code",
   "execution_count": null,
   "metadata": {
    "vscode": {
     "languageId": "sql"
    }
   },
   "outputs": [],
   "source": [
    "SELECT e.name, e.dcode\n",
    "FROM EMP1 e\n",
    "JOIN (\n",
    "    SELECT dcode FROM DEPT1 WHERE division = 4\n",
    "    UNION\n",
    "    SELECT dcode FROM DEPT2 WHERE division = 4\n",
    ") d ON e.dcode = d.dcode\n",
    "\n",
    "UNION\n",
    "\n",
    "SELECT e.name, e.dcode\n",
    "FROM EMP2 e\n",
    "JOIN (\n",
    "    SELECT dcode FROM DEPT1 WHERE division = 4\n",
    "    UNION\n",
    "    SELECT dcode FROM DEPT2 WHERE division = 4\n",
    ") d ON e.dcode = d.dcode\n",
    "\n",
    "UNION\n",
    "\n",
    "SELECT e.name, e.dcode\n",
    "FROM EMP3 e\n",
    "JOIN (\n",
    "    SELECT dcode FROM DEPT1 WHERE division = 4\n",
    "    UNION\n",
    "    SELECT dcode FROM DEPT2 WHERE division = 4\n",
    ") d ON e.dcode = d.dcode;"
   ]
  },
  {
   "cell_type": "markdown",
   "metadata": {},
   "source": [
    "**Explanation of the SQL:**\n",
    "\n",
    "*Subquery for Division 4 Departments:*\n",
    "\n",
    "> SELECT dcode FROM DEPT1 WHERE division = 4 UNION SELECT dcode FROM DEPT2 WHERE division = 4\n",
    "creates a temporary result set containing the department codes from both DEPT1 and DEPT2 that are in division 4.\n",
    "\n",
    "*Joins:*\n",
    "\n",
    ">Each SELECT ... FROM EMPn ... JOIN ... block joins an employee fragment (EMP1, EMP2, EMP3) with the subquery result based on the dcode column.\n",
    "\n",
    "*Unions:*\n",
    "\n",
    ">The UNION operators combine the results from the three employee fragment queries.\n",
    "\n",
    "\n",
    "Output:\n",
    "\n",
    "name  |\tdcode\n",
    "------|-------\n",
    "Bina  |\tD2\n",
    "Cintu |\tD4"
   ]
  },
  {
   "cell_type": "markdown",
   "metadata": {},
   "source": [
    "**Exercise Query**\n",
    "1. The end user wants to list name and age for all such employees\n",
    "who works in a department whose budget is 50,000.\n",
    "\n",
    "\n"
   ]
  },
  {
   "cell_type": "code",
   "execution_count": null,
   "metadata": {
    "vscode": {
     "languageId": "sql"
    }
   },
   "outputs": [],
   "source": [
    "-- Level 1\n",
    "SELECT name, age\n",
    "FROM EMP\n",
    "WHERE dcode IN (SELECT dcode FROM DEPT WHERE budget = 500000);\n",
    "\n",
    "-- Level 2\n",
    "SELECT e.name, e.age\n",
    "FROM EMP1 e\n",
    "JOIN (SELECT dcode FROM DEPT1 WHERE budget = 500000) d ON e.dcode = d.dcode\n",
    "\n",
    "UNION\n",
    "\n",
    "SELECT e.name, e.age\n",
    "FROM EMP2 e\n",
    "JOIN (SELECT dcode FROM DEPT1 WHERE budget = 500000) d ON e.dcode = d.dcode\n",
    "\n",
    "UNION\n",
    "\n",
    "SELECT e.name, e.age\n",
    "FROM EMP3 e\n",
    "JOIN (SELECT dcode FROM DEPT1 WHERE budget = 500000) d ON e.dcode = d.dcode;"
   ]
  },
  {
   "cell_type": "markdown",
   "metadata": {},
   "source": [
    "Output (Q1):\n",
    "\n",
    "| name  | age |\n",
    "|-------|-----|\n",
    "| Amit  | 30  |\n",
    "| Dina  | 32  |\n",
    "| Frank | 33  |"
   ]
  },
  {
   "cell_type": "markdown",
   "metadata": {},
   "source": [
    "2. The end user wants to list name, age and city for all such\n",
    "employees who works in division 4 and is below 40 years of age."
   ]
  },
  {
   "cell_type": "code",
   "execution_count": null,
   "metadata": {
    "vscode": {
     "languageId": "sql"
    }
   },
   "outputs": [],
   "source": [
    "-- Level 1\n",
    "SELECT name, age, city\n",
    "FROM EMP\n",
    "WHERE dcode IN (SELECT dcode FROM DEPT WHERE division = 4)\n",
    "AND age < 40;\n",
    "\n",
    "-- Level 2\n",
    "SELECT e.name, e.age, e.city\n",
    "FROM EMP1 e\n",
    "JOIN (\n",
    "    SELECT dcode FROM DEPT1 WHERE division = 4\n",
    "    UNION\n",
    "    SELECT dcode FROM DEPT2 WHERE division = 4\n",
    ") d ON e.dcode = d.dcode\n",
    "WHERE e.age < 40\n",
    "\n",
    "UNION\n",
    "\n",
    "SELECT e.name, e.age, e.city\n",
    "FROM EMP2 e\n",
    "JOIN (\n",
    "    SELECT dcode FROM DEPT1 WHERE division = 4\n",
    "    UNION\n",
    "    SELECT dcode FROM DEPT2 WHERE division = 4\n",
    ") d ON e.dcode = d.dcode\n",
    "WHERE e.age < 40\n",
    "\n",
    "UNION\n",
    "\n",
    "SELECT e.name, e.age, e.city\n",
    "FROM EMP3 e\n",
    "JOIN (\n",
    "    SELECT dcode FROM DEPT1 WHERE division = 4\n",
    "    UNION\n",
    "    SELECT dcode FROM DEPT2 WHERE division = 4\n",
    ") d ON e.dcode = d.dcode\n",
    "WHERE e.age < 40;"
   ]
  },
  {
   "cell_type": "markdown",
   "metadata": {},
   "source": [
    "Output (Q2):\n",
    "\n",
    "| name  | age | city    |\n",
    "|-------|-----|---------|\n",
    "| Bina  | 28  | Kolkata |\n",
    "| Esha  | 29  | Delhi   |\n",
    "| Cintu | 35  | Kolkata |"
   ]
  }
 ],
 "metadata": {
  "language_info": {
   "name": "python"
  }
 },
 "nbformat": 4,
 "nbformat_minor": 2
}
