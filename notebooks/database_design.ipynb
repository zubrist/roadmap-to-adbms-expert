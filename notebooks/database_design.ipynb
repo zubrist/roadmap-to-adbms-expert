{
 "cells": [
  {
   "cell_type": "markdown",
   "metadata": {},
   "source": [
    "*2.1* **Improve database structure by learning keys , indexes**"
   ]
  },
  {
   "cell_type": "markdown",
   "metadata": {
    "vscode": {
     "languageId": "plaintext"
    }
   },
   "source": [
    "**PRIMARY KEY** \n",
    "*example: id*\n",
    "*usage:*\n",
    "- unique identifier for each record\n",
    "- must be unique\n",
    "- can not be null\n",
    "- can not be duplicate\n",
    "- can not be changed\n",
    "- can not be deleted\n",
    "\n"
   ]
  },
  {
   "cell_type": "code",
   "execution_count": null,
   "metadata": {
    "vscode": {
     "languageId": "sql"
    }
   },
   "outputs": [],
   "source": [
    "\n",
    "-- CREATE TABLE\n",
    "CREATE TABLE customers (id INT AUTO_INCREMENT PRIMARY KEY,\n",
    "                        name VARCHAR(100), \n",
    "                        email VARCHAR(100) \n",
    "                        );\n",
    "-- here id is the primary key                        "
   ]
  },
  {
   "cell_type": "markdown",
   "metadata": {},
   "source": [
    "**FOREIGN KEY** *example: product_id*\n",
    "*usage:*\n",
    "- used to link two tables together\n",
    "- must be unique\n",
    "- can not be null\n",
    "- can not be duplicate\n",
    "- can not be changed\n",
    "- can not be deleted\n",
    "\n"
   ]
  },
  {
   "cell_type": "code",
   "execution_count": null,
   "metadata": {
    "vscode": {
     "languageId": "sql"
    }
   },
   "outputs": [],
   "source": [
    "-- Product  TABLE\n",
    "CREATE TABLE product (id INT AUTO_INCREMENT PRIMARY KEY,\n",
    "                         product_name VARCHAR(100),\n",
    "                         product_price DECIMAL(10,2),\n",
    "                         product_description TEXT,\n",
    "                         );\n",
    "\n",
    "-- Order TABLE\n",
    "CREATE TABLE orders (id INT AUTO_INCREMENT PRIMARY KEY,\n",
    "                     customer_id INT,\n",
    "                     product_id INT,\n",
    "                     quantity INT,\n",
    "                     order_date DATE,\n",
    "                     FOREIGN KEY (customer_id) REFERENCES customers(id),\n",
    "                     FOREIGN KEY (product_id) REFERENCES product(id)\n",
    "                     );\n",
    "-- here customer_id and product_id are the foreign keys\n",
    "\n",
    "\n",
    "\n"
   ]
  },
  {
   "cell_type": "markdown",
   "metadata": {},
   "source": [
    "**INDEX** *example: name*\n",
    "*usage:*\n",
    "- used to improve the performance of the database\n",
    "- can be unique or non-unique\n",
    "- can be null\n",
    "- can be duplicate\n",
    "- can be changed\n",
    "- can be deleted\n",
    "\n",
    "**Scenario example**:\n",
    "- if we have a table of customers and we want to search for a customer by name, we can create an index on the name column to improve the performance of the search query.\n",
    "\n",
    "**how it works**:\n",
    "- when we create an index on a column, the database engine creates a separate data structure that stores the values of the column in a sorted order.\n",
    "- when we perform a search query, the database engine uses the index to quickly locate the values that match the search criteria.\n"
   ]
  },
  {
   "cell_type": "code",
   "execution_count": null,
   "metadata": {
    "vscode": {
     "languageId": "sql"
    }
   },
   "outputs": [],
   "source": [
    "-- CREATE INDEX\n",
    "CREATE INDEX idx_name ON customers(name);\n",
    "-- here idx_name is the index on the name column of the customers table"
   ]
  },
  {
   "cell_type": "markdown",
   "metadata": {},
   "source": [
    "*2.2* **Understanding Normalization (1NF, 2NF, 3NF, BCNF)**\n"
   ]
  },
  {
   "cell_type": "markdown",
   "metadata": {},
   "source": [
    ">We have created table - students , courses, enrollments and course_assignments that follows the Normalization rules."
   ]
  },
  {
   "cell_type": "code",
   "execution_count": 1,
   "metadata": {},
   "outputs": [],
   "source": [
    "# Connect to the SQLite database\n",
    "import sqlite3\n",
    "import pandas as pd\n",
    "\n",
    "conn =  sqlite3.connect(\"../database/db.sqlite3\")\n",
    "\n",
    "# Create a cursor object\n",
    "cursor = conn.cursor()\n",
    "\n"
   ]
  },
  {
   "cell_type": "code",
   "execution_count": 2,
   "metadata": {},
   "outputs": [
    {
     "name": "stdout",
     "output_type": "stream",
     "text": [
      "Student data inserted successfully.\n",
      "   student_id              name              email           address  \\\n",
      "0           1  Alice Wonderland  alice@example.com  123 Fantasy Lane   \n",
      "\n",
      "  date_of_birth  department_id  \n",
      "0    2000-01-01              1  \n"
     ]
    }
   ],
   "source": [
    "# Insert data into the students table\n",
    "insert_query = '''\n",
    "INSERT INTO students (name, email, address, date_of_birth, department_id)\n",
    "VALUES (\"Alice Wonderland\", \"alice@example.com\", \"123 Fantasy Lane\", \"2000-01-01\", 1);\n",
    "'''\n",
    "\n",
    "try:\n",
    "    cursor.execute(insert_query)\n",
    "    conn.commit()\n",
    "    print(\"Student data inserted successfully.\")\n",
    "except sqlite3.IntegrityError as e:\n",
    "    print(f\"IntegrityError: {e}\")\n",
    "\n",
    "# Fetch and display the inserted student data\n",
    "student_result = pd.read_sql(\"SELECT * FROM students\", conn)\n",
    "print(student_result)"
   ]
  },
  {
   "cell_type": "code",
   "execution_count": 3,
   "metadata": {},
   "outputs": [
    {
     "name": "stdout",
     "output_type": "stream",
     "text": [
      "Multiple students inserted successfully.\n",
      "   student_id                name                           email  \\\n",
      "0           1    Alice Wonderland               alice@example.com   \n",
      "1           2    Aishwarya Sharma    aishwarya.sharma@example.com   \n",
      "2           3         Rahul Kumar         rahul.kumar@example.com   \n",
      "3           4         Priya Patel         priya.patel@example.com   \n",
      "4           5        Vikram Singh        vikram.singh@example.com   \n",
      "5           6         Sneha Reddy         sneha.reddy@example.com   \n",
      "6           7         Arjun Menon         arjun.menon@example.com   \n",
      "7           8  Deepika Chatterjee  deepika.chatterjee@example.com   \n",
      "\n",
      "                       address date_of_birth  department_id  \n",
      "0             123 Fantasy Lane    2000-01-01              1  \n",
      "1        10 MG Road, Bangalore    2001-05-15              1  \n",
      "2      22 Park Street, Kolkata    2002-08-20              2  \n",
      "3      45 Linking Road, Mumbai    2000-11-10              3  \n",
      "4      78 Chandni Chowk, Delhi    2003-03-25              1  \n",
      "5  90 Jubilee Hills, Hyderabad    2001-09-02              2  \n",
      "6   12 Kochi Backwaters, Kochi    2002-12-18              3  \n",
      "7    15 Shanti Niketan, Bolpur    2000-06-30              1  \n"
     ]
    }
   ],
   "source": [
    "# Insert multiple students\n",
    "students_data = [\n",
    "    (\"Aishwarya Sharma\", \"aishwarya.sharma@example.com\", \"10 MG Road, Bangalore\", \"2001-05-15\", 1),\n",
    "    (\"Rahul Kumar\", \"rahul.kumar@example.com\", \"22 Park Street, Kolkata\", \"2002-08-20\", 2),\n",
    "    (\"Priya Patel\", \"priya.patel@example.com\", \"45 Linking Road, Mumbai\", \"2000-11-10\", 3),\n",
    "    (\"Vikram Singh\", \"vikram.singh@example.com\", \"78 Chandni Chowk, Delhi\", \"2003-03-25\", 1),\n",
    "    (\"Sneha Reddy\", \"sneha.reddy@example.com\", \"90 Jubilee Hills, Hyderabad\", \"2001-09-02\", 2),\n",
    "    (\"Arjun Menon\", \"arjun.menon@example.com\", \"12 Kochi Backwaters, Kochi\", \"2002-12-18\", 3),\n",
    "    (\"Deepika Chatterjee\", \"deepika.chatterjee@example.com\", \"15 Shanti Niketan, Bolpur\", \"2000-06-30\", 1),\n",
    "]\n",
    "\n",
    "try:\n",
    "    cursor.executemany('''\n",
    "        INSERT INTO students (name, email, address, date_of_birth, department_id)\n",
    "        VALUES (?, ?, ?, ?, ?)\n",
    "    ''', students_data)\n",
    "    conn.commit()\n",
    "    print(\"Multiple students inserted successfully.\")\n",
    "except sqlite3.IntegrityError as e:\n",
    "    print(f\"IntegrityError: {e}\")\n",
    "\n",
    "# Fetch and display the inserted student data\n",
    "student_result = pd.read_sql(\"SELECT * FROM students\", conn)\n",
    "print(student_result)"
   ]
  },
  {
   "cell_type": "code",
   "execution_count": null,
   "metadata": {},
   "outputs": [
    {
     "name": "stdout",
     "output_type": "stream",
     "text": [
      "Multiple student phone numbers inserted successfully.\n",
      "    phone_id  student_id phone_number\n",
      "0          1           1   9876543210\n",
      "1          2           1   9876543210\n",
      "2          3           1   8765432109\n",
      "3          4           2   7654321098\n",
      "4          5           3   6543210987\n",
      "5          6           4   5432109876\n",
      "6          7           5   4321098765\n",
      "7          8           6   3210987654\n",
      "8          9           7   2109876543\n",
      "9         10           2   1234567890\n",
      "10        11           1   9876543210\n",
      "11        12           1   9876543210\n",
      "12        13           5   8765432109\n",
      "13        14           2   7654321098\n",
      "14        15           3   6543210987\n",
      "15        16           4   5432109876\n",
      "16        17           5   4321098765\n",
      "17        18           6   3210987654\n",
      "18        19           7   2109876543\n",
      "19        20           2   1234567890\n"
     ]
    }
   ],
   "source": [
    "# Insert  student phone numbers\n",
    "student_phones_data = [\n",
    "    (1, \"9876543210\"),  \n",
    "    (1, \"9876543210\"),  \n",
    "    (5, \"8765432109\"),\n",
    "    (2, \"7654321098\"),  \n",
    "    (3, \"6543210987\"),  \n",
    "    (4, \"5432109876\"),  \n",
    "    (5, \"4321098765\"),  \n",
    "    (6, \"3210987654\"),  \n",
    "    (7, \"2109876543\"),  \n",
    "    (2, \"1234567890\"),  \n",
    "]\n",
    "\n",
    "'''\n",
    "In the above example student_id one has multiple phone numbers \n",
    "'''\n",
    "try:\n",
    "    cursor.executemany('''\n",
    "        INSERT INTO student_phones (student_id, phone_number)\n",
    "        VALUES (?, ?)\n",
    "    ''', student_phones_data)\n",
    "    conn.commit()\n",
    "    print(\"Multiple student phone numbers inserted successfully.\")\n",
    "except sqlite3.IntegrityError as e:\n",
    "    print(f\"IntegrityError: {e}\")\n",
    "\n",
    "# Fetch and display the inserted student phone numbers\n",
    "student_phones_result = pd.read_sql(\"SELECT * FROM student_phones\", conn)\n",
    "print(student_phones_result)"
   ]
  },
  {
   "cell_type": "code",
   "execution_count": null,
   "metadata": {},
   "outputs": [
    {
     "name": "stdout",
     "output_type": "stream",
     "text": [
      "IntegrityError: UNIQUE constraint failed: courses.course_id\n",
      "   course_id                       course_name\n",
      "0          1  Introduction to Computer Science\n",
      "1          2              Advanced Mathematics\n",
      "2          3              Physics I: Mechanics\n",
      "3          4      Chemistry: Organic Chemistry\n",
      "4          5             Biology: Cell Biology\n",
      "5          6       Database Management Systems\n",
      "6          7              Software Engineering\n",
      "7          8    Data Structures and Algorithms\n",
      "8          9                   Web Development\n"
     ]
    }
   ],
   "source": [
    "# Insert data into the courses table (corrected)\n",
    "courses_data = [\n",
    "    (1, \"Introduction to Computer Science\"),\n",
    "    (2, \"Advanced Mathematics\"),\n",
    "    (3, \"Physics I: Mechanics\"),\n",
    "    (4, \"Chemistry: Organic Chemistry\"),\n",
    "    (5, \"Biology: Cell Biology\"),\n",
    "    (6, \"Database Management Systems\"),\n",
    "    (7, \"Software Engineering\"),\n",
    "    (8, \"Data Structures and Algorithms\"),\n",
    "    (9, \"Web Development\") \n",
    "]\n",
    "'''\n",
    "To add more courses, remove existing ones first and \n",
    "then add new course_name to the courses_data list.\n",
    "'''\n",
    "\n",
    "try:\n",
    "    cursor.executemany('''\n",
    "        INSERT INTO courses (course_id, course_name)\n",
    "        VALUES (?, ?)\n",
    "    ''', courses_data)\n",
    "    conn.commit()\n",
    "    print(\"Courses inserted successfully.\")\n",
    "except sqlite3.IntegrityError as e:\n",
    "    print(f\"IntegrityError: {e}\")\n",
    "except sqlite3.ProgrammingError as e:\n",
    "    print(f\"ProgrammingError: {e}\") #added a programming error catch.\n",
    "\n",
    "# Fetch and display the inserted course data\n",
    "courses_result = pd.read_sql(\"SELECT * FROM courses\", conn)\n",
    "print(courses_result)\n"
   ]
  },
  {
   "cell_type": "code",
   "execution_count": 12,
   "metadata": {},
   "outputs": [
    {
     "name": "stdout",
     "output_type": "stream",
     "text": [
      "Enrollments inserted successfully.\n",
      "   enrollment_id  student_id  course_id enrollment_date\n",
      "0              1           1          1      2023-10-25\n",
      "1              2           1          2      2024-02-01\n",
      "2              3           2          3      2023-10-26\n",
      "3              4           3          1      2023-10-27\n",
      "4              5           4          4      2024-04-10\n",
      "5              6           5          5      2023-10-28\n",
      "6              7           6          6      2023-10-29\n",
      "7              8           7          7      2023-10-29\n",
      "8              9           2          1      2025-01-04\n"
     ]
    }
   ],
   "source": [
    "# Insert multiple enrollments\n",
    "enrollments_data = [\n",
    "    (1, 1, \"2023-10-25\"),   \n",
    "    (1, 2, \"2024-02-01\"),   \n",
    "    (2, 3, \"2023-10-26\"),   \n",
    "    (3, 1, \"2023-10-27\"),  \n",
    "    (4, 4, \"2024-04-10\"),\n",
    "    (5, 5, \"2023-10-28\"),\n",
    "    (6, 6, \"2023-10-29\"),\n",
    "    (7, 7, \"2023-10-29\"),\n",
    "    (2, 1, \"2025-01-04\"), \n",
    "]\n",
    "\n",
    "try:\n",
    "    cursor.executemany('''\n",
    "        INSERT INTO enrollments (student_id, course_id, enrollment_date)\n",
    "        VALUES (?, ?, ?)\n",
    "    ''', enrollments_data)\n",
    "    conn.commit()\n",
    "    print(\"Enrollments inserted successfully.\")\n",
    "except sqlite3.IntegrityError as e:\n",
    "    print(f\"IntegrityError: {e}\")\n",
    "\n",
    "# Fetch and display the inserted enrollments\n",
    "enrollments_result = pd.read_sql(\"SELECT * FROM enrollments\", conn)\n",
    "print(enrollments_result)"
   ]
  }
 ],
 "metadata": {
  "kernelspec": {
   "display_name": "Python 3",
   "language": "python",
   "name": "python3"
  },
  "language_info": {
   "codemirror_mode": {
    "name": "ipython",
    "version": 3
   },
   "file_extension": ".py",
   "mimetype": "text/x-python",
   "name": "python",
   "nbconvert_exporter": "python",
   "pygments_lexer": "ipython3",
   "version": "3.12.1"
  }
 },
 "nbformat": 4,
 "nbformat_minor": 2
}
